{
  "cells": [
    {
      "cell_type": "markdown",
      "id": "322a2209",
      "metadata": {},
      "source": [
        "# Movie Recommendation system"
      ]
    },
    {
      "cell_type": "code",
      "execution_count": 1,
      "id": "mw-kEz9M46Nu",
      "metadata": {
        "id": "mw-kEz9M46Nu"
      },
      "outputs": [],
      "source": [
        "import pandas as pd\n",
        "import  numpy as np\n",
        "import matplotlib.pyplot as plt\n",
        "import seaborn as sns\n",
        "import warnings\n",
        "warnings.filterwarnings('ignore')\n",
        "import plotly.express as px\n",
        "import plotly.graph_objects as go\n"
      ]
    },
    {
      "cell_type": "markdown",
      "id": "YcaqLRma9HZH",
      "metadata": {
        "id": "YcaqLRma9HZH"
      },
      "source": [
        "### Data Collection"
      ]
    },
    {
      "cell_type": "code",
      "execution_count": 2,
      "id": "LKk8xxg49G-P",
      "metadata": {
        "id": "LKk8xxg49G-P"
      },
      "outputs": [],
      "source": [
        "# Define column names for u.data and load u.data\n",
        "data_column_names = ['user_id', 'movie_id', 'rating', 'timestamp']\n",
        "u_data_df = pd.read_csv('u.data', sep='\\t', names=data_column_names, engine='python')\n",
        "\n",
        "# Define columns for u.item file and load the file\n",
        "item_column_names = [\n",
        "                     'movie_id', 'movie_title', 'release_date', 'video_release_date', 'imdb_url', 'unknown',\n",
        "                     'action', 'adventure', 'animation', 'childrens', 'comedy', 'crime', 'documentary',\n",
        "                     'drama', 'fantasy', 'film_noir', 'horror', 'musical', 'mystery', 'romance',\n",
        "                     'sci_fi', 'thriller', 'war', 'western'\n",
        "                     ]\n",
        "u_item_df = pd.read_csv('u.item', sep='|', names=item_column_names, encoding='latin-1',engine='python')\n",
        "\n",
        "# load the u.genre file\n",
        "u_genre_df = pd.read_csv('u.genre', sep='|', names=['genre', 'genre_id'], engine='python')\n",
        "\n"
      ]
    },
    {
      "cell_type": "markdown",
      "id": "2cc92986",
      "metadata": {},
      "source": [
        "#### Data Preprocessing"
      ]
    },
    {
      "cell_type": "code",
      "execution_count": 3,
      "id": "8q5qXwjg_ksK",
      "metadata": {
        "colab": {
          "base_uri": "https://localhost:8080/",
          "height": 342
        },
        "id": "8q5qXwjg_ksK",
        "outputId": "06d31262-886c-4f84-e1d2-f0f536baacee"
      },
      "outputs": [
        {
          "data": {
            "text/html": [
              "<div>\n",
              "<style scoped>\n",
              "    .dataframe tbody tr th:only-of-type {\n",
              "        vertical-align: middle;\n",
              "    }\n",
              "\n",
              "    .dataframe tbody tr th {\n",
              "        vertical-align: top;\n",
              "    }\n",
              "\n",
              "    .dataframe thead th {\n",
              "        text-align: right;\n",
              "    }\n",
              "</style>\n",
              "<table border=\"1\" class=\"dataframe\">\n",
              "  <thead>\n",
              "    <tr style=\"text-align: right;\">\n",
              "      <th></th>\n",
              "      <th>user_id</th>\n",
              "      <th>movie_id</th>\n",
              "      <th>rating</th>\n",
              "      <th>timestamp</th>\n",
              "      <th>movie_title</th>\n",
              "      <th>release_date</th>\n",
              "      <th>video_release_date</th>\n",
              "      <th>imdb_url</th>\n",
              "      <th>unknown</th>\n",
              "      <th>action</th>\n",
              "      <th>...</th>\n",
              "      <th>fantasy</th>\n",
              "      <th>film_noir</th>\n",
              "      <th>horror</th>\n",
              "      <th>musical</th>\n",
              "      <th>mystery</th>\n",
              "      <th>romance</th>\n",
              "      <th>sci_fi</th>\n",
              "      <th>thriller</th>\n",
              "      <th>war</th>\n",
              "      <th>western</th>\n",
              "    </tr>\n",
              "  </thead>\n",
              "  <tbody>\n",
              "    <tr>\n",
              "      <th>0</th>\n",
              "      <td>196</td>\n",
              "      <td>242</td>\n",
              "      <td>3</td>\n",
              "      <td>881250949</td>\n",
              "      <td>Kolya (1996)</td>\n",
              "      <td>24-Jan-1997</td>\n",
              "      <td>NaN</td>\n",
              "      <td>http://us.imdb.com/M/title-exact?Kolya%20(1996)</td>\n",
              "      <td>0</td>\n",
              "      <td>0</td>\n",
              "      <td>...</td>\n",
              "      <td>0</td>\n",
              "      <td>0</td>\n",
              "      <td>0</td>\n",
              "      <td>0</td>\n",
              "      <td>0</td>\n",
              "      <td>0</td>\n",
              "      <td>0</td>\n",
              "      <td>0</td>\n",
              "      <td>0</td>\n",
              "      <td>0</td>\n",
              "    </tr>\n",
              "    <tr>\n",
              "      <th>1</th>\n",
              "      <td>186</td>\n",
              "      <td>302</td>\n",
              "      <td>3</td>\n",
              "      <td>891717742</td>\n",
              "      <td>L.A. Confidential (1997)</td>\n",
              "      <td>01-Jan-1997</td>\n",
              "      <td>NaN</td>\n",
              "      <td>http://us.imdb.com/M/title-exact?L%2EA%2E+Conf...</td>\n",
              "      <td>0</td>\n",
              "      <td>0</td>\n",
              "      <td>...</td>\n",
              "      <td>0</td>\n",
              "      <td>1</td>\n",
              "      <td>0</td>\n",
              "      <td>0</td>\n",
              "      <td>1</td>\n",
              "      <td>0</td>\n",
              "      <td>0</td>\n",
              "      <td>1</td>\n",
              "      <td>0</td>\n",
              "      <td>0</td>\n",
              "    </tr>\n",
              "    <tr>\n",
              "      <th>2</th>\n",
              "      <td>22</td>\n",
              "      <td>377</td>\n",
              "      <td>1</td>\n",
              "      <td>878887116</td>\n",
              "      <td>Heavyweights (1994)</td>\n",
              "      <td>01-Jan-1994</td>\n",
              "      <td>NaN</td>\n",
              "      <td>http://us.imdb.com/M/title-exact?Heavyweights%...</td>\n",
              "      <td>0</td>\n",
              "      <td>0</td>\n",
              "      <td>...</td>\n",
              "      <td>0</td>\n",
              "      <td>0</td>\n",
              "      <td>0</td>\n",
              "      <td>0</td>\n",
              "      <td>0</td>\n",
              "      <td>0</td>\n",
              "      <td>0</td>\n",
              "      <td>0</td>\n",
              "      <td>0</td>\n",
              "      <td>0</td>\n",
              "    </tr>\n",
              "    <tr>\n",
              "      <th>3</th>\n",
              "      <td>244</td>\n",
              "      <td>51</td>\n",
              "      <td>2</td>\n",
              "      <td>880606923</td>\n",
              "      <td>Legends of the Fall (1994)</td>\n",
              "      <td>01-Jan-1994</td>\n",
              "      <td>NaN</td>\n",
              "      <td>http://us.imdb.com/M/title-exact?Legends%20of%...</td>\n",
              "      <td>0</td>\n",
              "      <td>0</td>\n",
              "      <td>...</td>\n",
              "      <td>0</td>\n",
              "      <td>0</td>\n",
              "      <td>0</td>\n",
              "      <td>0</td>\n",
              "      <td>0</td>\n",
              "      <td>1</td>\n",
              "      <td>0</td>\n",
              "      <td>0</td>\n",
              "      <td>1</td>\n",
              "      <td>1</td>\n",
              "    </tr>\n",
              "    <tr>\n",
              "      <th>4</th>\n",
              "      <td>166</td>\n",
              "      <td>346</td>\n",
              "      <td>1</td>\n",
              "      <td>886397596</td>\n",
              "      <td>Jackie Brown (1997)</td>\n",
              "      <td>01-Jan-1997</td>\n",
              "      <td>NaN</td>\n",
              "      <td>http://us.imdb.com/M/title-exact?imdb-title-11...</td>\n",
              "      <td>0</td>\n",
              "      <td>0</td>\n",
              "      <td>...</td>\n",
              "      <td>0</td>\n",
              "      <td>0</td>\n",
              "      <td>0</td>\n",
              "      <td>0</td>\n",
              "      <td>0</td>\n",
              "      <td>0</td>\n",
              "      <td>0</td>\n",
              "      <td>0</td>\n",
              "      <td>0</td>\n",
              "      <td>0</td>\n",
              "    </tr>\n",
              "  </tbody>\n",
              "</table>\n",
              "<p>5 rows × 27 columns</p>\n",
              "</div>"
            ],
            "text/plain": [
              "   user_id  movie_id  rating  timestamp                 movie_title  \\\n",
              "0      196       242       3  881250949                Kolya (1996)   \n",
              "1      186       302       3  891717742    L.A. Confidential (1997)   \n",
              "2       22       377       1  878887116         Heavyweights (1994)   \n",
              "3      244        51       2  880606923  Legends of the Fall (1994)   \n",
              "4      166       346       1  886397596         Jackie Brown (1997)   \n",
              "\n",
              "  release_date  video_release_date  \\\n",
              "0  24-Jan-1997                 NaN   \n",
              "1  01-Jan-1997                 NaN   \n",
              "2  01-Jan-1994                 NaN   \n",
              "3  01-Jan-1994                 NaN   \n",
              "4  01-Jan-1997                 NaN   \n",
              "\n",
              "                                            imdb_url  unknown  action  ...  \\\n",
              "0    http://us.imdb.com/M/title-exact?Kolya%20(1996)        0       0  ...   \n",
              "1  http://us.imdb.com/M/title-exact?L%2EA%2E+Conf...        0       0  ...   \n",
              "2  http://us.imdb.com/M/title-exact?Heavyweights%...        0       0  ...   \n",
              "3  http://us.imdb.com/M/title-exact?Legends%20of%...        0       0  ...   \n",
              "4  http://us.imdb.com/M/title-exact?imdb-title-11...        0       0  ...   \n",
              "\n",
              "   fantasy  film_noir  horror  musical  mystery  romance  sci_fi  thriller  \\\n",
              "0        0          0       0        0        0        0       0         0   \n",
              "1        0          1       0        0        1        0       0         1   \n",
              "2        0          0       0        0        0        0       0         0   \n",
              "3        0          0       0        0        0        1       0         0   \n",
              "4        0          0       0        0        0        0       0         0   \n",
              "\n",
              "   war  western  \n",
              "0    0        0  \n",
              "1    0        0  \n",
              "2    0        0  \n",
              "3    1        1  \n",
              "4    0        0  \n",
              "\n",
              "[5 rows x 27 columns]"
            ]
          },
          "execution_count": 3,
          "metadata": {},
          "output_type": "execute_result"
        }
      ],
      "source": [
        "# Merge user and item datasets on 'movie_id'\n",
        "merged_df = pd.merge(u_data_df, u_item_df, on='movie_id', how='inner')\n",
        "\n",
        "merged_df.head()"
      ]
    },
    {
      "cell_type": "code",
      "execution_count": 4,
      "id": "6pW4bbZuQRRf",
      "metadata": {
        "colab": {
          "base_uri": "https://localhost:8080/"
        },
        "id": "6pW4bbZuQRRf",
        "outputId": "8fc8eab6-299e-4cea-dc74-cc843d6faece"
      },
      "outputs": [
        {
          "name": "stdout",
          "output_type": "stream",
          "text": [
            "<class 'pandas.core.frame.DataFrame'>\n",
            "RangeIndex: 100000 entries, 0 to 99999\n",
            "Data columns (total 27 columns):\n",
            " #   Column              Non-Null Count   Dtype  \n",
            "---  ------              --------------   -----  \n",
            " 0   user_id             100000 non-null  int64  \n",
            " 1   movie_id            100000 non-null  int64  \n",
            " 2   rating              100000 non-null  int64  \n",
            " 3   timestamp           100000 non-null  int64  \n",
            " 4   movie_title         100000 non-null  object \n",
            " 5   release_date        99991 non-null   object \n",
            " 6   video_release_date  0 non-null       float64\n",
            " 7   imdb_url            99987 non-null   object \n",
            " 8   unknown             100000 non-null  int64  \n",
            " 9   action              100000 non-null  int64  \n",
            " 10  adventure           100000 non-null  int64  \n",
            " 11  animation           100000 non-null  int64  \n",
            " 12  childrens           100000 non-null  int64  \n",
            " 13  comedy              100000 non-null  int64  \n",
            " 14  crime               100000 non-null  int64  \n",
            " 15  documentary         100000 non-null  int64  \n",
            " 16  drama               100000 non-null  int64  \n",
            " 17  fantasy             100000 non-null  int64  \n",
            " 18  film_noir           100000 non-null  int64  \n",
            " 19  horror              100000 non-null  int64  \n",
            " 20  musical             100000 non-null  int64  \n",
            " 21  mystery             100000 non-null  int64  \n",
            " 22  romance             100000 non-null  int64  \n",
            " 23  sci_fi              100000 non-null  int64  \n",
            " 24  thriller            100000 non-null  int64  \n",
            " 25  war                 100000 non-null  int64  \n",
            " 26  western             100000 non-null  int64  \n",
            "dtypes: float64(1), int64(23), object(3)\n",
            "memory usage: 20.6+ MB\n"
          ]
        }
      ],
      "source": [
        "merged_df.info()"
      ]
    },
    {
      "cell_type": "code",
      "execution_count": 5,
      "id": "ttXOmb8PQd7s",
      "metadata": {
        "colab": {
          "base_uri": "https://localhost:8080/",
          "height": 930
        },
        "id": "ttXOmb8PQd7s",
        "outputId": "903a23f1-d547-4d50-b4f9-ea66989b8b9b"
      },
      "outputs": [
        {
          "data": {
            "text/plain": [
              "user_id                    0\n",
              "movie_id                   0\n",
              "rating                     0\n",
              "timestamp                  0\n",
              "movie_title                0\n",
              "release_date               9\n",
              "video_release_date    100000\n",
              "imdb_url                  13\n",
              "unknown                    0\n",
              "action                     0\n",
              "adventure                  0\n",
              "animation                  0\n",
              "childrens                  0\n",
              "comedy                     0\n",
              "crime                      0\n",
              "documentary                0\n",
              "drama                      0\n",
              "fantasy                    0\n",
              "film_noir                  0\n",
              "horror                     0\n",
              "musical                    0\n",
              "mystery                    0\n",
              "romance                    0\n",
              "sci_fi                     0\n",
              "thriller                   0\n",
              "war                        0\n",
              "western                    0\n",
              "dtype: int64"
            ]
          },
          "execution_count": 5,
          "metadata": {},
          "output_type": "execute_result"
        }
      ],
      "source": [
        "#Check for missing values\n",
        "merged_df.isnull().sum()"
      ]
    },
    {
      "cell_type": "code",
      "execution_count": 6,
      "id": "_FHom_XsRYgm",
      "metadata": {
        "id": "_FHom_XsRYgm"
      },
      "outputs": [],
      "source": [
        "# Since all values of video release date is null, drop that column\n",
        "merged_df.drop('video_release_date', axis=1, inplace=True)\n",
        "#Release date and imdb url has very few missing value. hence remove those columns\n",
        "merged_df.dropna(inplace=True)"
      ]
    },
    {
      "cell_type": "code",
      "execution_count": 7,
      "id": "t5bABQDORYY3",
      "metadata": {
        "id": "t5bABQDORYY3"
      },
      "outputs": [],
      "source": [
        "#dropping irrilevent columns\n",
        "merged_df.drop(['timestamp',  'imdb_url'], axis=1, inplace=True)"
      ]
    },
    {
      "cell_type": "code",
      "execution_count": 8,
      "id": "bHZD6DjIRYdU",
      "metadata": {
        "colab": {
          "base_uri": "https://localhost:8080/"
        },
        "id": "bHZD6DjIRYdU",
        "outputId": "92bb6392-be5b-4448-9400-43094d49f14f"
      },
      "outputs": [
        {
          "data": {
            "text/plain": [
              "0"
            ]
          },
          "execution_count": 8,
          "metadata": {},
          "output_type": "execute_result"
        }
      ],
      "source": [
        "#check the duplicates\n",
        "merged_df.duplicated().sum()"
      ]
    },
    {
      "cell_type": "code",
      "execution_count": 9,
      "id": "xvGW_EVmW3Lr",
      "metadata": {
        "colab": {
          "base_uri": "https://localhost:8080/",
          "height": 349
        },
        "id": "xvGW_EVmW3Lr",
        "outputId": "7547bf68-486e-4be5-dcf3-374fecd32d99"
      },
      "outputs": [
        {
          "data": {
            "text/html": [
              "<div>\n",
              "<style scoped>\n",
              "    .dataframe tbody tr th:only-of-type {\n",
              "        vertical-align: middle;\n",
              "    }\n",
              "\n",
              "    .dataframe tbody tr th {\n",
              "        vertical-align: top;\n",
              "    }\n",
              "\n",
              "    .dataframe thead th {\n",
              "        text-align: right;\n",
              "    }\n",
              "</style>\n",
              "<table border=\"1\" class=\"dataframe\">\n",
              "  <thead>\n",
              "    <tr style=\"text-align: right;\">\n",
              "      <th></th>\n",
              "      <th>user_id</th>\n",
              "      <th>movie_id</th>\n",
              "      <th>rating</th>\n",
              "      <th>unknown</th>\n",
              "      <th>action</th>\n",
              "      <th>adventure</th>\n",
              "      <th>animation</th>\n",
              "      <th>childrens</th>\n",
              "      <th>comedy</th>\n",
              "      <th>crime</th>\n",
              "      <th>...</th>\n",
              "      <th>fantasy</th>\n",
              "      <th>film_noir</th>\n",
              "      <th>horror</th>\n",
              "      <th>musical</th>\n",
              "      <th>mystery</th>\n",
              "      <th>romance</th>\n",
              "      <th>sci_fi</th>\n",
              "      <th>thriller</th>\n",
              "      <th>war</th>\n",
              "      <th>western</th>\n",
              "    </tr>\n",
              "  </thead>\n",
              "  <tbody>\n",
              "    <tr>\n",
              "      <th>count</th>\n",
              "      <td>99987.000000</td>\n",
              "      <td>99987.000000</td>\n",
              "      <td>99987.000000</td>\n",
              "      <td>99987.000000</td>\n",
              "      <td>99987.000000</td>\n",
              "      <td>99987.000000</td>\n",
              "      <td>99987.000000</td>\n",
              "      <td>99987.000000</td>\n",
              "      <td>99987.000000</td>\n",
              "      <td>99987.00000</td>\n",
              "      <td>...</td>\n",
              "      <td>99987.000000</td>\n",
              "      <td>99987.000000</td>\n",
              "      <td>99987.000000</td>\n",
              "      <td>99987.000000</td>\n",
              "      <td>99987.000000</td>\n",
              "      <td>99987.000000</td>\n",
              "      <td>99987.000000</td>\n",
              "      <td>99987.000000</td>\n",
              "      <td>99987.000000</td>\n",
              "      <td>99987.000000</td>\n",
              "    </tr>\n",
              "    <tr>\n",
              "      <th>mean</th>\n",
              "      <td>462.506256</td>\n",
              "      <td>425.507076</td>\n",
              "      <td>3.529929</td>\n",
              "      <td>0.000010</td>\n",
              "      <td>0.255903</td>\n",
              "      <td>0.137548</td>\n",
              "      <td>0.036055</td>\n",
              "      <td>0.071829</td>\n",
              "      <td>0.298359</td>\n",
              "      <td>0.08056</td>\n",
              "      <td>...</td>\n",
              "      <td>0.013522</td>\n",
              "      <td>0.017332</td>\n",
              "      <td>0.053177</td>\n",
              "      <td>0.049546</td>\n",
              "      <td>0.052457</td>\n",
              "      <td>0.194635</td>\n",
              "      <td>0.127317</td>\n",
              "      <td>0.218748</td>\n",
              "      <td>0.093992</td>\n",
              "      <td>0.018542</td>\n",
              "    </tr>\n",
              "    <tr>\n",
              "      <th>std</th>\n",
              "      <td>266.613847</td>\n",
              "      <td>330.763806</td>\n",
              "      <td>1.125606</td>\n",
              "      <td>0.003162</td>\n",
              "      <td>0.436370</td>\n",
              "      <td>0.344427</td>\n",
              "      <td>0.186427</td>\n",
              "      <td>0.258206</td>\n",
              "      <td>0.457540</td>\n",
              "      <td>0.27216</td>\n",
              "      <td>...</td>\n",
              "      <td>0.115495</td>\n",
              "      <td>0.130507</td>\n",
              "      <td>0.224387</td>\n",
              "      <td>0.217007</td>\n",
              "      <td>0.222948</td>\n",
              "      <td>0.395922</td>\n",
              "      <td>0.333329</td>\n",
              "      <td>0.413400</td>\n",
              "      <td>0.291819</td>\n",
              "      <td>0.134903</td>\n",
              "    </tr>\n",
              "    <tr>\n",
              "      <th>min</th>\n",
              "      <td>1.000000</td>\n",
              "      <td>1.000000</td>\n",
              "      <td>1.000000</td>\n",
              "      <td>0.000000</td>\n",
              "      <td>0.000000</td>\n",
              "      <td>0.000000</td>\n",
              "      <td>0.000000</td>\n",
              "      <td>0.000000</td>\n",
              "      <td>0.000000</td>\n",
              "      <td>0.00000</td>\n",
              "      <td>...</td>\n",
              "      <td>0.000000</td>\n",
              "      <td>0.000000</td>\n",
              "      <td>0.000000</td>\n",
              "      <td>0.000000</td>\n",
              "      <td>0.000000</td>\n",
              "      <td>0.000000</td>\n",
              "      <td>0.000000</td>\n",
              "      <td>0.000000</td>\n",
              "      <td>0.000000</td>\n",
              "      <td>0.000000</td>\n",
              "    </tr>\n",
              "    <tr>\n",
              "      <th>25%</th>\n",
              "      <td>254.000000</td>\n",
              "      <td>175.000000</td>\n",
              "      <td>3.000000</td>\n",
              "      <td>0.000000</td>\n",
              "      <td>0.000000</td>\n",
              "      <td>0.000000</td>\n",
              "      <td>0.000000</td>\n",
              "      <td>0.000000</td>\n",
              "      <td>0.000000</td>\n",
              "      <td>0.00000</td>\n",
              "      <td>...</td>\n",
              "      <td>0.000000</td>\n",
              "      <td>0.000000</td>\n",
              "      <td>0.000000</td>\n",
              "      <td>0.000000</td>\n",
              "      <td>0.000000</td>\n",
              "      <td>0.000000</td>\n",
              "      <td>0.000000</td>\n",
              "      <td>0.000000</td>\n",
              "      <td>0.000000</td>\n",
              "      <td>0.000000</td>\n",
              "    </tr>\n",
              "    <tr>\n",
              "      <th>50%</th>\n",
              "      <td>447.000000</td>\n",
              "      <td>322.000000</td>\n",
              "      <td>4.000000</td>\n",
              "      <td>0.000000</td>\n",
              "      <td>0.000000</td>\n",
              "      <td>0.000000</td>\n",
              "      <td>0.000000</td>\n",
              "      <td>0.000000</td>\n",
              "      <td>0.000000</td>\n",
              "      <td>0.00000</td>\n",
              "      <td>...</td>\n",
              "      <td>0.000000</td>\n",
              "      <td>0.000000</td>\n",
              "      <td>0.000000</td>\n",
              "      <td>0.000000</td>\n",
              "      <td>0.000000</td>\n",
              "      <td>0.000000</td>\n",
              "      <td>0.000000</td>\n",
              "      <td>0.000000</td>\n",
              "      <td>0.000000</td>\n",
              "      <td>0.000000</td>\n",
              "    </tr>\n",
              "    <tr>\n",
              "      <th>75%</th>\n",
              "      <td>682.000000</td>\n",
              "      <td>631.000000</td>\n",
              "      <td>4.000000</td>\n",
              "      <td>0.000000</td>\n",
              "      <td>1.000000</td>\n",
              "      <td>0.000000</td>\n",
              "      <td>0.000000</td>\n",
              "      <td>0.000000</td>\n",
              "      <td>1.000000</td>\n",
              "      <td>0.00000</td>\n",
              "      <td>...</td>\n",
              "      <td>0.000000</td>\n",
              "      <td>0.000000</td>\n",
              "      <td>0.000000</td>\n",
              "      <td>0.000000</td>\n",
              "      <td>0.000000</td>\n",
              "      <td>0.000000</td>\n",
              "      <td>0.000000</td>\n",
              "      <td>0.000000</td>\n",
              "      <td>0.000000</td>\n",
              "      <td>0.000000</td>\n",
              "    </tr>\n",
              "    <tr>\n",
              "      <th>max</th>\n",
              "      <td>943.000000</td>\n",
              "      <td>1682.000000</td>\n",
              "      <td>5.000000</td>\n",
              "      <td>1.000000</td>\n",
              "      <td>1.000000</td>\n",
              "      <td>1.000000</td>\n",
              "      <td>1.000000</td>\n",
              "      <td>1.000000</td>\n",
              "      <td>1.000000</td>\n",
              "      <td>1.00000</td>\n",
              "      <td>...</td>\n",
              "      <td>1.000000</td>\n",
              "      <td>1.000000</td>\n",
              "      <td>1.000000</td>\n",
              "      <td>1.000000</td>\n",
              "      <td>1.000000</td>\n",
              "      <td>1.000000</td>\n",
              "      <td>1.000000</td>\n",
              "      <td>1.000000</td>\n",
              "      <td>1.000000</td>\n",
              "      <td>1.000000</td>\n",
              "    </tr>\n",
              "  </tbody>\n",
              "</table>\n",
              "<p>8 rows × 22 columns</p>\n",
              "</div>"
            ],
            "text/plain": [
              "            user_id      movie_id        rating       unknown        action  \\\n",
              "count  99987.000000  99987.000000  99987.000000  99987.000000  99987.000000   \n",
              "mean     462.506256    425.507076      3.529929      0.000010      0.255903   \n",
              "std      266.613847    330.763806      1.125606      0.003162      0.436370   \n",
              "min        1.000000      1.000000      1.000000      0.000000      0.000000   \n",
              "25%      254.000000    175.000000      3.000000      0.000000      0.000000   \n",
              "50%      447.000000    322.000000      4.000000      0.000000      0.000000   \n",
              "75%      682.000000    631.000000      4.000000      0.000000      1.000000   \n",
              "max      943.000000   1682.000000      5.000000      1.000000      1.000000   \n",
              "\n",
              "          adventure     animation     childrens        comedy        crime  \\\n",
              "count  99987.000000  99987.000000  99987.000000  99987.000000  99987.00000   \n",
              "mean       0.137548      0.036055      0.071829      0.298359      0.08056   \n",
              "std        0.344427      0.186427      0.258206      0.457540      0.27216   \n",
              "min        0.000000      0.000000      0.000000      0.000000      0.00000   \n",
              "25%        0.000000      0.000000      0.000000      0.000000      0.00000   \n",
              "50%        0.000000      0.000000      0.000000      0.000000      0.00000   \n",
              "75%        0.000000      0.000000      0.000000      1.000000      0.00000   \n",
              "max        1.000000      1.000000      1.000000      1.000000      1.00000   \n",
              "\n",
              "       ...       fantasy     film_noir        horror       musical  \\\n",
              "count  ...  99987.000000  99987.000000  99987.000000  99987.000000   \n",
              "mean   ...      0.013522      0.017332      0.053177      0.049546   \n",
              "std    ...      0.115495      0.130507      0.224387      0.217007   \n",
              "min    ...      0.000000      0.000000      0.000000      0.000000   \n",
              "25%    ...      0.000000      0.000000      0.000000      0.000000   \n",
              "50%    ...      0.000000      0.000000      0.000000      0.000000   \n",
              "75%    ...      0.000000      0.000000      0.000000      0.000000   \n",
              "max    ...      1.000000      1.000000      1.000000      1.000000   \n",
              "\n",
              "            mystery       romance        sci_fi      thriller           war  \\\n",
              "count  99987.000000  99987.000000  99987.000000  99987.000000  99987.000000   \n",
              "mean       0.052457      0.194635      0.127317      0.218748      0.093992   \n",
              "std        0.222948      0.395922      0.333329      0.413400      0.291819   \n",
              "min        0.000000      0.000000      0.000000      0.000000      0.000000   \n",
              "25%        0.000000      0.000000      0.000000      0.000000      0.000000   \n",
              "50%        0.000000      0.000000      0.000000      0.000000      0.000000   \n",
              "75%        0.000000      0.000000      0.000000      0.000000      0.000000   \n",
              "max        1.000000      1.000000      1.000000      1.000000      1.000000   \n",
              "\n",
              "            western  \n",
              "count  99987.000000  \n",
              "mean       0.018542  \n",
              "std        0.134903  \n",
              "min        0.000000  \n",
              "25%        0.000000  \n",
              "50%        0.000000  \n",
              "75%        0.000000  \n",
              "max        1.000000  \n",
              "\n",
              "[8 rows x 22 columns]"
            ]
          },
          "execution_count": 9,
          "metadata": {},
          "output_type": "execute_result"
        }
      ],
      "source": [
        "merged_df.describe()"
      ]
    },
    {
      "cell_type": "markdown",
      "id": "mOgeUts7_7Gp",
      "metadata": {
        "id": "mOgeUts7_7Gp"
      },
      "source": [
        "**EDA**"
      ]
    },
    {
      "cell_type": "markdown",
      "id": "CJf1w-WzHSE6",
      "metadata": {
        "id": "CJf1w-WzHSE6"
      },
      "source": [
        "Movies with highest number of ratings"
      ]
    },
    {
      "cell_type": "code",
      "execution_count": 10,
      "id": "zuClFZ5a_-Q7",
      "metadata": {
        "colab": {
          "base_uri": "https://localhost:8080/",
          "height": 394
        },
        "id": "zuClFZ5a_-Q7",
        "outputId": "5df0fa90-3d7c-4c02-a299-608e31186869"
      },
      "outputs": [
        {
          "data": {
            "text/html": [
              "<div>\n",
              "<style scoped>\n",
              "    .dataframe tbody tr th:only-of-type {\n",
              "        vertical-align: middle;\n",
              "    }\n",
              "\n",
              "    .dataframe tbody tr th {\n",
              "        vertical-align: top;\n",
              "    }\n",
              "\n",
              "    .dataframe thead th {\n",
              "        text-align: right;\n",
              "    }\n",
              "</style>\n",
              "<table border=\"1\" class=\"dataframe\">\n",
              "  <thead>\n",
              "    <tr style=\"text-align: right;\">\n",
              "      <th></th>\n",
              "      <th>rating</th>\n",
              "      <th>count of ratings</th>\n",
              "    </tr>\n",
              "    <tr>\n",
              "      <th>movie_title</th>\n",
              "      <th></th>\n",
              "      <th></th>\n",
              "    </tr>\n",
              "  </thead>\n",
              "  <tbody>\n",
              "    <tr>\n",
              "      <th>Star Wars (1977)</th>\n",
              "      <td>4.358491</td>\n",
              "      <td>583</td>\n",
              "    </tr>\n",
              "    <tr>\n",
              "      <th>Contact (1997)</th>\n",
              "      <td>3.803536</td>\n",
              "      <td>509</td>\n",
              "    </tr>\n",
              "    <tr>\n",
              "      <th>Fargo (1996)</th>\n",
              "      <td>4.155512</td>\n",
              "      <td>508</td>\n",
              "    </tr>\n",
              "    <tr>\n",
              "      <th>Return of the Jedi (1983)</th>\n",
              "      <td>4.007890</td>\n",
              "      <td>507</td>\n",
              "    </tr>\n",
              "    <tr>\n",
              "      <th>Liar Liar (1997)</th>\n",
              "      <td>3.156701</td>\n",
              "      <td>485</td>\n",
              "    </tr>\n",
              "    <tr>\n",
              "      <th>English Patient, The (1996)</th>\n",
              "      <td>3.656965</td>\n",
              "      <td>481</td>\n",
              "    </tr>\n",
              "    <tr>\n",
              "      <th>Scream (1996)</th>\n",
              "      <td>3.441423</td>\n",
              "      <td>478</td>\n",
              "    </tr>\n",
              "    <tr>\n",
              "      <th>Toy Story (1995)</th>\n",
              "      <td>3.878319</td>\n",
              "      <td>452</td>\n",
              "    </tr>\n",
              "    <tr>\n",
              "      <th>Air Force One (1997)</th>\n",
              "      <td>3.631090</td>\n",
              "      <td>431</td>\n",
              "    </tr>\n",
              "    <tr>\n",
              "      <th>Independence Day (ID4) (1996)</th>\n",
              "      <td>3.438228</td>\n",
              "      <td>429</td>\n",
              "    </tr>\n",
              "  </tbody>\n",
              "</table>\n",
              "</div>"
            ],
            "text/plain": [
              "                                 rating  count of ratings\n",
              "movie_title                                              \n",
              "Star Wars (1977)               4.358491               583\n",
              "Contact (1997)                 3.803536               509\n",
              "Fargo (1996)                   4.155512               508\n",
              "Return of the Jedi (1983)      4.007890               507\n",
              "Liar Liar (1997)               3.156701               485\n",
              "English Patient, The (1996)    3.656965               481\n",
              "Scream (1996)                  3.441423               478\n",
              "Toy Story (1995)               3.878319               452\n",
              "Air Force One (1997)           3.631090               431\n",
              "Independence Day (ID4) (1996)  3.438228               429"
            ]
          },
          "execution_count": 10,
          "metadata": {},
          "output_type": "execute_result"
        }
      ],
      "source": [
        "# Create a dataset to explore\n",
        "eda_rating = pd.DataFrame(merged_df.groupby('movie_title')['rating'].mean())\n",
        "eda_rating['count of ratings'] = pd.DataFrame(merged_df.groupby('movie_title')['rating'].count())\n",
        "eda_rating.head()\n",
        "eda_rating.sort_values('count of ratings', ascending=False).head(10)"
      ]
    },
    {
      "cell_type": "code",
      "execution_count": 11,
      "id": "E8OILEg_HhsT",
      "metadata": {
        "colab": {
          "base_uri": "https://localhost:8080/",
          "height": 523
        },
        "id": "E8OILEg_HhsT",
        "outputId": "4df398cf-99f6-4e2d-c23e-c2c9c5805931"
      },
      "outputs": [
        {
          "data": {
            "text/plain": [
              "<seaborn.axisgrid.FacetGrid at 0x1a645658530>"
            ]
          },
          "execution_count": 11,
          "metadata": {},
          "output_type": "execute_result"
        },
        {
          "data": {
            "image/png": "[encoded data removed]",
            "text/plain": [
              "<Figure size 500x500 with 1 Axes>"
            ]
          },
          "metadata": {},
          "output_type": "display_data"
        }
      ],
      "source": [
        "import seaborn as sns\n",
        "sns.displot(data=eda_rating, x='rating', bins=50)"
      ]
    },
    {
      "cell_type": "code",
      "execution_count": 12,
      "id": "mz1QwiYsXnHe",
      "metadata": {
        "colab": {
          "base_uri": "https://localhost:8080/",
          "height": 455
        },
        "id": "mz1QwiYsXnHe",
        "outputId": "6055f96e-c4c9-4af8-c853-940db7f21900"
      },
      "outputs": [
        {
          "data": {
            "text/html": [
              "<div>\n",
              "<style scoped>\n",
              "    .dataframe tbody tr th:only-of-type {\n",
              "        vertical-align: middle;\n",
              "    }\n",
              "\n",
              "    .dataframe tbody tr th {\n",
              "        vertical-align: top;\n",
              "    }\n",
              "\n",
              "    .dataframe thead th {\n",
              "        text-align: right;\n",
              "    }\n",
              "</style>\n",
              "<table border=\"1\" class=\"dataframe\">\n",
              "  <thead>\n",
              "    <tr style=\"text-align: right;\">\n",
              "      <th></th>\n",
              "      <th>rating</th>\n",
              "      <th>count of ratings</th>\n",
              "    </tr>\n",
              "    <tr>\n",
              "      <th>movie_title</th>\n",
              "      <th></th>\n",
              "      <th></th>\n",
              "    </tr>\n",
              "  </thead>\n",
              "  <tbody>\n",
              "    <tr>\n",
              "      <th>Close Shave, A (1995)</th>\n",
              "      <td>4.491071</td>\n",
              "      <td>112</td>\n",
              "    </tr>\n",
              "    <tr>\n",
              "      <th>Schindler's List (1993)</th>\n",
              "      <td>4.466443</td>\n",
              "      <td>298</td>\n",
              "    </tr>\n",
              "    <tr>\n",
              "      <th>Wrong Trousers, The (1993)</th>\n",
              "      <td>4.466102</td>\n",
              "      <td>118</td>\n",
              "    </tr>\n",
              "    <tr>\n",
              "      <th>Casablanca (1942)</th>\n",
              "      <td>4.456790</td>\n",
              "      <td>243</td>\n",
              "    </tr>\n",
              "    <tr>\n",
              "      <th>Shawshank Redemption, The (1994)</th>\n",
              "      <td>4.445230</td>\n",
              "      <td>283</td>\n",
              "    </tr>\n",
              "    <tr>\n",
              "      <th>...</th>\n",
              "      <td>...</td>\n",
              "      <td>...</td>\n",
              "    </tr>\n",
              "    <tr>\n",
              "      <th>Spawn (1997)</th>\n",
              "      <td>2.615385</td>\n",
              "      <td>143</td>\n",
              "    </tr>\n",
              "    <tr>\n",
              "      <th>Event Horizon (1997)</th>\n",
              "      <td>2.574803</td>\n",
              "      <td>127</td>\n",
              "    </tr>\n",
              "    <tr>\n",
              "      <th>Crash (1996)</th>\n",
              "      <td>2.546875</td>\n",
              "      <td>128</td>\n",
              "    </tr>\n",
              "    <tr>\n",
              "      <th>Jungle2Jungle (1997)</th>\n",
              "      <td>2.439394</td>\n",
              "      <td>132</td>\n",
              "    </tr>\n",
              "    <tr>\n",
              "      <th>Cable Guy, The (1996)</th>\n",
              "      <td>2.339623</td>\n",
              "      <td>106</td>\n",
              "    </tr>\n",
              "  </tbody>\n",
              "</table>\n",
              "<p>334 rows × 2 columns</p>\n",
              "</div>"
            ],
            "text/plain": [
              "                                    rating  count of ratings\n",
              "movie_title                                                 \n",
              "Close Shave, A (1995)             4.491071               112\n",
              "Schindler's List (1993)           4.466443               298\n",
              "Wrong Trousers, The (1993)        4.466102               118\n",
              "Casablanca (1942)                 4.456790               243\n",
              "Shawshank Redemption, The (1994)  4.445230               283\n",
              "...                                    ...               ...\n",
              "Spawn (1997)                      2.615385               143\n",
              "Event Horizon (1997)              2.574803               127\n",
              "Crash (1996)                      2.546875               128\n",
              "Jungle2Jungle (1997)              2.439394               132\n",
              "Cable Guy, The (1996)             2.339623               106\n",
              "\n",
              "[334 rows x 2 columns]"
            ]
          },
          "execution_count": 12,
          "metadata": {},
          "output_type": "execute_result"
        }
      ],
      "source": [
        "#Threashold for minimum number of movies set as 100 and sort by rating\n",
        "popular_movie_list_with_rating= eda_rating[eda_rating['count of ratings'] > 100].sort_values('rating', ascending=False)\n",
        "popular_movie_list_with_rating"
      ]
    },
    {
      "cell_type": "markdown",
      "id": "4aa57bc7",
      "metadata": {},
      "source": [
        "### Top 10 Popular Movies based on number of ratings and average rating"
      ]
    },
    {
      "cell_type": "code",
      "execution_count": 13,
      "id": "nUVS0rUkY1TL",
      "metadata": {
        "colab": {
          "base_uri": "https://localhost:8080/",
          "height": 455
        },
        "id": "nUVS0rUkY1TL",
        "outputId": "acbfecfc-b8c0-4293-c78e-04f1f81f642f"
      },
      "outputs": [
        {
          "data": {
            "text/html": [
              "<div>\n",
              "<style scoped>\n",
              "    .dataframe tbody tr th:only-of-type {\n",
              "        vertical-align: middle;\n",
              "    }\n",
              "\n",
              "    .dataframe tbody tr th {\n",
              "        vertical-align: top;\n",
              "    }\n",
              "\n",
              "    .dataframe thead th {\n",
              "        text-align: right;\n",
              "    }\n",
              "</style>\n",
              "<table border=\"1\" class=\"dataframe\">\n",
              "  <thead>\n",
              "    <tr style=\"text-align: right;\">\n",
              "      <th></th>\n",
              "      <th>rating</th>\n",
              "      <th>count of ratings</th>\n",
              "    </tr>\n",
              "    <tr>\n",
              "      <th>movie_title</th>\n",
              "      <th></th>\n",
              "      <th></th>\n",
              "    </tr>\n",
              "  </thead>\n",
              "  <tbody>\n",
              "    <tr>\n",
              "      <th>Star Wars (1977)</th>\n",
              "      <td>4.358491</td>\n",
              "      <td>583</td>\n",
              "    </tr>\n",
              "    <tr>\n",
              "      <th>Contact (1997)</th>\n",
              "      <td>3.803536</td>\n",
              "      <td>509</td>\n",
              "    </tr>\n",
              "    <tr>\n",
              "      <th>Fargo (1996)</th>\n",
              "      <td>4.155512</td>\n",
              "      <td>508</td>\n",
              "    </tr>\n",
              "    <tr>\n",
              "      <th>Return of the Jedi (1983)</th>\n",
              "      <td>4.007890</td>\n",
              "      <td>507</td>\n",
              "    </tr>\n",
              "    <tr>\n",
              "      <th>Liar Liar (1997)</th>\n",
              "      <td>3.156701</td>\n",
              "      <td>485</td>\n",
              "    </tr>\n",
              "    <tr>\n",
              "      <th>...</th>\n",
              "      <td>...</td>\n",
              "      <td>...</td>\n",
              "    </tr>\n",
              "    <tr>\n",
              "      <th>Sex, Lies, and Videotape (1989)</th>\n",
              "      <td>3.475248</td>\n",
              "      <td>101</td>\n",
              "    </tr>\n",
              "    <tr>\n",
              "      <th>Basic Instinct (1992)</th>\n",
              "      <td>3.227723</td>\n",
              "      <td>101</td>\n",
              "    </tr>\n",
              "    <tr>\n",
              "      <th>Young Guns (1988)</th>\n",
              "      <td>3.207921</td>\n",
              "      <td>101</td>\n",
              "    </tr>\n",
              "    <tr>\n",
              "      <th>Mimic (1997)</th>\n",
              "      <td>2.742574</td>\n",
              "      <td>101</td>\n",
              "    </tr>\n",
              "    <tr>\n",
              "      <th>Down Periscope (1996)</th>\n",
              "      <td>2.702970</td>\n",
              "      <td>101</td>\n",
              "    </tr>\n",
              "  </tbody>\n",
              "</table>\n",
              "<p>334 rows × 2 columns</p>\n",
              "</div>"
            ],
            "text/plain": [
              "                                   rating  count of ratings\n",
              "movie_title                                                \n",
              "Star Wars (1977)                 4.358491               583\n",
              "Contact (1997)                   3.803536               509\n",
              "Fargo (1996)                     4.155512               508\n",
              "Return of the Jedi (1983)        4.007890               507\n",
              "Liar Liar (1997)                 3.156701               485\n",
              "...                                   ...               ...\n",
              "Sex, Lies, and Videotape (1989)  3.475248               101\n",
              "Basic Instinct (1992)            3.227723               101\n",
              "Young Guns (1988)                3.207921               101\n",
              "Mimic (1997)                     2.742574               101\n",
              "Down Periscope (1996)            2.702970               101\n",
              "\n",
              "[334 rows x 2 columns]"
            ]
          },
          "execution_count": 13,
          "metadata": {},
          "output_type": "execute_result"
        }
      ],
      "source": [
        "# Sort by count of rating and then by average rating\n",
        "popular_movie_list = popular_movie_list_with_rating.sort_values([ 'count of ratings','rating'], ascending=False)\n",
        "popular_movie_list"
      ]
    },
    {
      "cell_type": "code",
      "execution_count": 14,
      "id": "IaLiPK60a5GF",
      "metadata": {
        "colab": {
          "base_uri": "https://localhost:8080/",
          "height": 370
        },
        "id": "IaLiPK60a5GF",
        "outputId": "9b79abd9-e849-47a4-a55c-040b0d9f7581"
      },
      "outputs": [
        {
          "data": {
            "image/png": "[encoded data removed]",
            "text/plain": [
              "<Figure size 1000x600 with 1 Axes>"
            ]
          },
          "metadata": {},
          "output_type": "display_data"
        }
      ],
      "source": [
        "#Plotting top 10 popular movies\n",
        "top_movies= popular_movie_list.head(10)\n",
        "top_movies['rating'].plot(kind='barh', figsize=(10, 6))\n",
        "plt.title('Top 10 Popular Movies based on number of ratings and average rating')\n",
        "plt.xlabel('Average Rating')\n",
        "plt.gca().invert_yaxis()  # To display the highest rated movie at the top\n",
        "plt.show()"
      ]
    },
    {
      "cell_type": "code",
      "execution_count": 15,
      "id": "6bfuaOCbaT8n",
      "metadata": {
        "colab": {
          "base_uri": "https://localhost:8080/",
          "height": 450
        },
        "id": "6bfuaOCbaT8n",
        "outputId": "19dfee7e-b568-4971-9607-ff09eac514d2"
      },
      "outputs": [
        {
          "data": {
            "image/png": "[encoded data removed]",
            "text/plain": [
              "<Figure size 640x480 with 1 Axes>"
            ]
          },
          "metadata": {},
          "output_type": "display_data"
        }
      ],
      "source": [
        "# @title rating vs count of ratings\n",
        "\n",
        "from matplotlib import pyplot as plt\n",
        "popular_movie_list.plot(kind='scatter', x='rating', y='count of ratings', s=32, alpha=.8)\n",
        "plt.gca().spines[['top', 'right',]].set_visible(False)"
      ]
    },
    {
      "cell_type": "code",
      "execution_count": 16,
      "id": "gclSyaigaMQG",
      "metadata": {
        "colab": {
          "base_uri": "https://localhost:8080/",
          "height": 889
        },
        "id": "gclSyaigaMQG",
        "outputId": "b9e1c87f-af69-4e62-ef41-921f834ce2cc"
      },
      "outputs": [
        {
          "name": "stdout",
          "output_type": "stream",
          "text": [
            "unknown            1\n",
            "action         25587\n",
            "adventure      13753\n",
            "animation       3605\n",
            "childrens       7182\n",
            "comedy         29832\n",
            "crime           8055\n",
            "documentary      758\n",
            "drama          39893\n",
            "fantasy         1352\n",
            "film_noir       1733\n",
            "horror          5317\n",
            "musical         4954\n",
            "mystery         5245\n",
            "romance        19461\n",
            "sci_fi         12730\n",
            "thriller       21872\n",
            "war             9398\n",
            "western         1854\n",
            "dtype: int64\n"
          ]
        },
        {
          "data": {
            "application/vnd.plotly.v1+json": {
              "config": {
                "plotlyServerURL": "https://plot.ly"
              },
              "data": [
                {
                  "alignmentgroup": "True",
                  "hovertemplate": "index=%{x}<br>Count=%{y}<extra></extra>",
                  "legendgroup": "",
                  "marker": {
                    "color": "#636efa",
                    "pattern": {
                      "shape": ""
                    }
                  },
                  "name": "",
                  "offsetgroup": "",
                  "orientation": "v",
                  "showlegend": false,
                  "textposition": "auto",
                  "type": "bar",
                  "x": [
                    "unknown",
                    "action",
                    "adventure",
                    "animation",
                    "childrens",
                    "comedy",
                    "crime",
                    "documentary",
                    "drama",
                    "fantasy",
                    "film_noir",
                    "horror",
                    "musical",
                    "mystery",
                    "romance",
                    "sci_fi",
                    "thriller",
                    "war",
                    "western"
                  ],
                  "xaxis": "x",
                  "y": [
                    1,
                    25587,
                    13753,
                    3605,
                    7182,
                    29832,
                    8055,
                    758,
                    39893,
                    1352,
                    1733,
                    5317,
                    4954,
                    5245,
                    19461,
                    12730,
                    21872,
                    9398,
                    1854
                  ],
                  "yaxis": "y"
                }
              ],
              "layout": {
                "barmode": "relative",
                "legend": {
                  "tracegroupgap": 0
                },
                "template": {
                  "data": {
                    "bar": [
                      {
                        "error_x": {
                          "color": "#2a3f5f"
                        },
                        "error_y": {
                          "color": "#2a3f5f"
                        },
                        "marker": {
                          "line": {
                            "color": "#E5ECF6",
                            "width": 0.5
                          },
                          "pattern": {
                            "fillmode": "overlay",
                            "size": 10,
                            "solidity": 0.2
                          }
                        },
                        "type": "bar"
                      }
                    ],
                    "barpolar": [
                      {
                        "marker": {
                          "line": {
                            "color": "#E5ECF6",
                            "width": 0.5
                          },
                          "pattern": {
                            "fillmode": "overlay",
                            "size": 10,
                            "solidity": 0.2
                          }
                        },
                        "type": "barpolar"
                      }
                    ],
                    "carpet": [
                      {
                        "aaxis": {
                          "endlinecolor": "#2a3f5f",
                          "gridcolor": "white",
                          "linecolor": "white",
                          "minorgridcolor": "white",
                          "startlinecolor": "#2a3f5f"
                        },
                        "baxis": {
                          "endlinecolor": "#2a3f5f",
                          "gridcolor": "white",
                          "linecolor": "white",
                          "minorgridcolor": "white",
                          "startlinecolor": "#2a3f5f"
                        },
                        "type": "carpet"
                      }
                    ],
                    "choropleth": [
                      {
                        "colorbar": {
                          "outlinewidth": 0,
                          "ticks": ""
                        },
                        "type": "choropleth"
                      }
                    ],
                    "contour": [
                      {
                        "colorbar": {
                          "outlinewidth": 0,
                          "ticks": ""
                        },
                        "colorscale": [
                          [
                            0,
                            "#0d0887"
                          ],
                          [
                            0.1111111111111111,
                            "#46039f"
                          ],
                          [
                            0.2222222222222222,
                            "#7201a8"
                          ],
                          [
                            0.3333333333333333,
                            "#9c179e"
                          ],
                          [
                            0.4444444444444444,
                            "#bd3786"
                          ],
                          [
                            0.5555555555555556,
                            "#d8576b"
                          ],
                          [
                            0.6666666666666666,
                            "#ed7953"
                          ],
                          [
                            0.7777777777777778,
                            "#fb9f3a"
                          ],
                          [
                            0.8888888888888888,
                            "#fdca26"
                          ],
                          [
                            1,
                            "#f0f921"
                          ]
                        ],
                        "type": "contour"
                      }
                    ],
                    "contourcarpet": [
                      {
                        "colorbar": {
                          "outlinewidth": 0,
                          "ticks": ""
                        },
                        "type": "contourcarpet"
                      }
                    ],
                    "heatmap": [
                      {
                        "colorbar": {
                          "outlinewidth": 0,
                          "ticks": ""
                        },
                        "colorscale": [
                          [
                            0,
                            "#0d0887"
                          ],
                          [
                            0.1111111111111111,
                            "#46039f"
                          ],
                          [
                            0.2222222222222222,
                            "#7201a8"
                          ],
                          [
                            0.3333333333333333,
                            "#9c179e"
                          ],
                          [
                            0.4444444444444444,
                            "#bd3786"
                          ],
                          [
                            0.5555555555555556,
                            "#d8576b"
                          ],
                          [
                            0.6666666666666666,
                            "#ed7953"
                          ],
                          [
                            0.7777777777777778,
                            "#fb9f3a"
                          ],
                          [
                            0.8888888888888888,
                            "#fdca26"
                          ],
                          [
                            1,
                            "#f0f921"
                          ]
                        ],
                        "type": "heatmap"
                      }
                    ],
                    "heatmapgl": [
                      {
                        "colorbar": {
                          "outlinewidth": 0,
                          "ticks": ""
                        },
                        "colorscale": [
                          [
                            0,
                            "#0d0887"
                          ],
                          [
                            0.1111111111111111,
                            "#46039f"
                          ],
                          [
                            0.2222222222222222,
                            "#7201a8"
                          ],
                          [
                            0.3333333333333333,
                            "#9c179e"
                          ],
                          [
                            0.4444444444444444,
                            "#bd3786"
                          ],
                          [
                            0.5555555555555556,
                            "#d8576b"
                          ],
                          [
                            0.6666666666666666,
                            "#ed7953"
                          ],
                          [
                            0.7777777777777778,
                            "#fb9f3a"
                          ],
                          [
                            0.8888888888888888,
                            "#fdca26"
                          ],
                          [
                            1,
                            "#f0f921"
                          ]
                        ],
                        "type": "heatmapgl"
                      }
                    ],
                    "histogram": [
                      {
                        "marker": {
                          "pattern": {
                            "fillmode": "overlay",
                            "size": 10,
                            "solidity": 0.2
                          }
                        },
                        "type": "histogram"
                      }
                    ],
                    "histogram2d": [
                      {
                        "colorbar": {
                          "outlinewidth": 0,
                          "ticks": ""
                        },
                        "colorscale": [
                          [
                            0,
                            "#0d0887"
                          ],
                          [
                            0.1111111111111111,
                            "#46039f"
                          ],
                          [
                            0.2222222222222222,
                            "#7201a8"
                          ],
                          [
                            0.3333333333333333,
                            "#9c179e"
                          ],
                          [
                            0.4444444444444444,
                            "#bd3786"
                          ],
                          [
                            0.5555555555555556,
                            "#d8576b"
                          ],
                          [
                            0.6666666666666666,
                            "#ed7953"
                          ],
                          [
                            0.7777777777777778,
                            "#fb9f3a"
                          ],
                          [
                            0.8888888888888888,
                            "#fdca26"
                          ],
                          [
                            1,
                            "#f0f921"
                          ]
                        ],
                        "type": "histogram2d"
                      }
                    ],
                    "histogram2dcontour": [
                      {
                        "colorbar": {
                          "outlinewidth": 0,
                          "ticks": ""
                        },
                        "colorscale": [
                          [
                            0,
                            "#0d0887"
                          ],
                          [
                            0.1111111111111111,
                            "#46039f"
                          ],
                          [
                            0.2222222222222222,
                            "#7201a8"
                          ],
                          [
                            0.3333333333333333,
                            "#9c179e"
                          ],
                          [
                            0.4444444444444444,
                            "#bd3786"
                          ],
                          [
                            0.5555555555555556,
                            "#d8576b"
                          ],
                          [
                            0.6666666666666666,
                            "#ed7953"
                          ],
                          [
                            0.7777777777777778,
                            "#fb9f3a"
                          ],
                          [
                            0.8888888888888888,
                            "#fdca26"
                          ],
                          [
                            1,
                            "#f0f921"
                          ]
                        ],
                        "type": "histogram2dcontour"
                      }
                    ],
                    "mesh3d": [
                      {
                        "colorbar": {
                          "outlinewidth": 0,
                          "ticks": ""
                        },
                        "type": "mesh3d"
                      }
                    ],
                    "parcoords": [
                      {
                        "line": {
                          "colorbar": {
                            "outlinewidth": 0,
                            "ticks": ""
                          }
                        },
                        "type": "parcoords"
                      }
                    ],
                    "pie": [
                      {
                        "automargin": true,
                        "type": "pie"
                      }
                    ],
                    "scatter": [
                      {
                        "fillpattern": {
                          "fillmode": "overlay",
                          "size": 10,
                          "solidity": 0.2
                        },
                        "type": "scatter"
                      }
                    ],
                    "scatter3d": [
                      {
                        "line": {
                          "colorbar": {
                            "outlinewidth": 0,
                            "ticks": ""
                          }
                        },
                        "marker": {
                          "colorbar": {
                            "outlinewidth": 0,
                            "ticks": ""
                          }
                        },
                        "type": "scatter3d"
                      }
                    ],
                    "scattercarpet": [
                      {
                        "marker": {
                          "colorbar": {
                            "outlinewidth": 0,
                            "ticks": ""
                          }
                        },
                        "type": "scattercarpet"
                      }
                    ],
                    "scattergeo": [
                      {
                        "marker": {
                          "colorbar": {
                            "outlinewidth": 0,
                            "ticks": ""
                          }
                        },
                        "type": "scattergeo"
                      }
                    ],
                    "scattergl": [
                      {
                        "marker": {
                          "colorbar": {
                            "outlinewidth": 0,
                            "ticks": ""
                          }
                        },
                        "type": "scattergl"
                      }
                    ],
                    "scattermapbox": [
                      {
                        "marker": {
                          "colorbar": {
                            "outlinewidth": 0,
                            "ticks": ""
                          }
                        },
                        "type": "scattermapbox"
                      }
                    ],
                    "scatterpolar": [
                      {
                        "marker": {
                          "colorbar": {
                            "outlinewidth": 0,
                            "ticks": ""
                          }
                        },
                        "type": "scatterpolar"
                      }
                    ],
                    "scatterpolargl": [
                      {
                        "marker": {
                          "colorbar": {
                            "outlinewidth": 0,
                            "ticks": ""
                          }
                        },
                        "type": "scatterpolargl"
                      }
                    ],
                    "scatterternary": [
                      {
                        "marker": {
                          "colorbar": {
                            "outlinewidth": 0,
                            "ticks": ""
                          }
                        },
                        "type": "scatterternary"
                      }
                    ],
                    "surface": [
                      {
                        "colorbar": {
                          "outlinewidth": 0,
                          "ticks": ""
                        },
                        "colorscale": [
                          [
                            0,
                            "#0d0887"
                          ],
                          [
                            0.1111111111111111,
                            "#46039f"
                          ],
                          [
                            0.2222222222222222,
                            "#7201a8"
                          ],
                          [
                            0.3333333333333333,
                            "#9c179e"
                          ],
                          [
                            0.4444444444444444,
                            "#bd3786"
                          ],
                          [
                            0.5555555555555556,
                            "#d8576b"
                          ],
                          [
                            0.6666666666666666,
                            "#ed7953"
                          ],
                          [
                            0.7777777777777778,
                            "#fb9f3a"
                          ],
                          [
                            0.8888888888888888,
                            "#fdca26"
                          ],
                          [
                            1,
                            "#f0f921"
                          ]
                        ],
                        "type": "surface"
                      }
                    ],
                    "table": [
                      {
                        "cells": {
                          "fill": {
                            "color": "#EBF0F8"
                          },
                          "line": {
                            "color": "white"
                          }
                        },
                        "header": {
                          "fill": {
                            "color": "#C8D4E3"
                          },
                          "line": {
                            "color": "white"
                          }
                        },
                        "type": "table"
                      }
                    ]
                  },
                  "layout": {
                    "annotationdefaults": {
                      "arrowcolor": "#2a3f5f",
                      "arrowhead": 0,
                      "arrowwidth": 1
                    },
                    "autotypenumbers": "strict",
                    "coloraxis": {
                      "colorbar": {
                        "outlinewidth": 0,
                        "ticks": ""
                      }
                    },
                    "colorscale": {
                      "diverging": [
                        [
                          0,
                          "#8e0152"
                        ],
                        [
                          0.1,
                          "#c51b7d"
                        ],
                        [
                          0.2,
                          "#de77ae"
                        ],
                        [
                          0.3,
                          "#f1b6da"
                        ],
                        [
                          0.4,
                          "#fde0ef"
                        ],
                        [
                          0.5,
                          "#f7f7f7"
                        ],
                        [
                          0.6,
                          "#e6f5d0"
                        ],
                        [
                          0.7,
                          "#b8e186"
                        ],
                        [
                          0.8,
                          "#7fbc41"
                        ],
                        [
                          0.9,
                          "#4d9221"
                        ],
                        [
                          1,
                          "#276419"
                        ]
                      ],
                      "sequential": [
                        [
                          0,
                          "#0d0887"
                        ],
                        [
                          0.1111111111111111,
                          "#46039f"
                        ],
                        [
                          0.2222222222222222,
                          "#7201a8"
                        ],
                        [
                          0.3333333333333333,
                          "#9c179e"
                        ],
                        [
                          0.4444444444444444,
                          "#bd3786"
                        ],
                        [
                          0.5555555555555556,
                          "#d8576b"
                        ],
                        [
                          0.6666666666666666,
                          "#ed7953"
                        ],
                        [
                          0.7777777777777778,
                          "#fb9f3a"
                        ],
                        [
                          0.8888888888888888,
                          "#fdca26"
                        ],
                        [
                          1,
                          "#f0f921"
                        ]
                      ],
                      "sequentialminus": [
                        [
                          0,
                          "#0d0887"
                        ],
                        [
                          0.1111111111111111,
                          "#46039f"
                        ],
                        [
                          0.2222222222222222,
                          "#7201a8"
                        ],
                        [
                          0.3333333333333333,
                          "#9c179e"
                        ],
                        [
                          0.4444444444444444,
                          "#bd3786"
                        ],
                        [
                          0.5555555555555556,
                          "#d8576b"
                        ],
                        [
                          0.6666666666666666,
                          "#ed7953"
                        ],
                        [
                          0.7777777777777778,
                          "#fb9f3a"
                        ],
                        [
                          0.8888888888888888,
                          "#fdca26"
                        ],
                        [
                          1,
                          "#f0f921"
                        ]
                      ]
                    },
                    "colorway": [
                      "#636efa",
                      "#EF553B",
                      "#00cc96",
                      "#ab63fa",
                      "#FFA15A",
                      "#19d3f3",
                      "#FF6692",
                      "#B6E880",
                      "#FF97FF",
                      "#FECB52"
                    ],
                    "font": {
                      "color": "#2a3f5f"
                    },
                    "geo": {
                      "bgcolor": "white",
                      "lakecolor": "white",
                      "landcolor": "#E5ECF6",
                      "showlakes": true,
                      "showland": true,
                      "subunitcolor": "white"
                    },
                    "hoverlabel": {
                      "align": "left"
                    },
                    "hovermode": "closest",
                    "mapbox": {
                      "style": "light"
                    },
                    "paper_bgcolor": "white",
                    "plot_bgcolor": "#E5ECF6",
                    "polar": {
                      "angularaxis": {
                        "gridcolor": "white",
                        "linecolor": "white",
                        "ticks": ""
                      },
                      "bgcolor": "#E5ECF6",
                      "radialaxis": {
                        "gridcolor": "white",
                        "linecolor": "white",
                        "ticks": ""
                      }
                    },
                    "scene": {
                      "xaxis": {
                        "backgroundcolor": "#E5ECF6",
                        "gridcolor": "white",
                        "gridwidth": 2,
                        "linecolor": "white",
                        "showbackground": true,
                        "ticks": "",
                        "zerolinecolor": "white"
                      },
                      "yaxis": {
                        "backgroundcolor": "#E5ECF6",
                        "gridcolor": "white",
                        "gridwidth": 2,
                        "linecolor": "white",
                        "showbackground": true,
                        "ticks": "",
                        "zerolinecolor": "white"
                      },
                      "zaxis": {
                        "backgroundcolor": "#E5ECF6",
                        "gridcolor": "white",
                        "gridwidth": 2,
                        "linecolor": "white",
                        "showbackground": true,
                        "ticks": "",
                        "zerolinecolor": "white"
                      }
                    },
                    "shapedefaults": {
                      "line": {
                        "color": "#2a3f5f"
                      }
                    },
                    "ternary": {
                      "aaxis": {
                        "gridcolor": "white",
                        "linecolor": "white",
                        "ticks": ""
                      },
                      "baxis": {
                        "gridcolor": "white",
                        "linecolor": "white",
                        "ticks": ""
                      },
                      "bgcolor": "#E5ECF6",
                      "caxis": {
                        "gridcolor": "white",
                        "linecolor": "white",
                        "ticks": ""
                      }
                    },
                    "title": {
                      "x": 0.05
                    },
                    "xaxis": {
                      "automargin": true,
                      "gridcolor": "white",
                      "linecolor": "white",
                      "ticks": "",
                      "title": {
                        "standoff": 15
                      },
                      "zerolinecolor": "white",
                      "zerolinewidth": 2
                    },
                    "yaxis": {
                      "automargin": true,
                      "gridcolor": "white",
                      "linecolor": "white",
                      "ticks": "",
                      "title": {
                        "standoff": 15
                      },
                      "zerolinecolor": "white",
                      "zerolinewidth": 2
                    }
                  }
                },
                "title": {
                  "text": "Counts of Each Movie Category"
                },
                "xaxis": {
                  "anchor": "y",
                  "domain": [
                    0,
                    1
                  ],
                  "tickangle": -45,
                  "title": {
                    "text": "Movie Genre"
                  }
                },
                "yaxis": {
                  "anchor": "x",
                  "domain": [
                    0,
                    1
                  ],
                  "title": {
                    "text": "Count"
                  }
                }
              }
            }
          },
          "metadata": {},
          "output_type": "display_data"
        }
      ],
      "source": [
        "#Movie count by genre\n",
        "genre_columns = ['unknown', 'action', 'adventure', 'animation', 'childrens', 'comedy', 'crime',\n",
        "                 'documentary', 'drama', 'fantasy', 'film_noir', 'horror', 'musical', 'mystery',\n",
        "                 'romance', 'sci_fi', 'thriller', 'war', 'western']\n",
        "genre_counts = merged_df[genre_columns].sum()\n",
        "print(genre_counts)\n",
        "fig = px.bar(\n",
        "    genre_counts,\n",
        "    x=genre_counts.index,\n",
        "    y=genre_counts.values,\n",
        "    labels={'x': 'Movie Genre', 'y': 'Count'},\n",
        "    title='Counts of Each Movie Category'\n",
        ")\n",
        "\n",
        "# Update the layout for better appearance\n",
        "fig.update_layout(\n",
        "    xaxis_title='Movie Genre',\n",
        "    yaxis_title='Count',\n",
        "    xaxis_tickangle=-45\n",
        ")\n",
        "\n",
        "# Show the plot\n",
        "fig.show()"
      ]
    },
    {
      "cell_type": "markdown",
      "id": "Y9NuNw1kPMgv",
      "metadata": {
        "id": "Y9NuNw1kPMgv"
      },
      "source": [
        "## Matrix Factorization\n",
        "\n",
        "Displaying the user-item sparse matrix"
      ]
    },
    {
      "cell_type": "code",
      "execution_count": 17,
      "id": "N-5W0QpwPHge",
      "metadata": {
        "colab": {
          "base_uri": "https://localhost:8080/",
          "height": 287
        },
        "id": "N-5W0QpwPHge",
        "outputId": "301d6392-ae55-4959-bece-879a362b26df"
      },
      "outputs": [
        {
          "data": {
            "text/html": [
              "<div>\n",
              "<style scoped>\n",
              "    .dataframe tbody tr th:only-of-type {\n",
              "        vertical-align: middle;\n",
              "    }\n",
              "\n",
              "    .dataframe tbody tr th {\n",
              "        vertical-align: top;\n",
              "    }\n",
              "\n",
              "    .dataframe thead th {\n",
              "        text-align: right;\n",
              "    }\n",
              "</style>\n",
              "<table border=\"1\" class=\"dataframe\">\n",
              "  <thead>\n",
              "    <tr style=\"text-align: right;\">\n",
              "      <th>movie_id</th>\n",
              "      <th>1</th>\n",
              "      <th>2</th>\n",
              "      <th>3</th>\n",
              "      <th>4</th>\n",
              "      <th>5</th>\n",
              "      <th>6</th>\n",
              "      <th>7</th>\n",
              "      <th>8</th>\n",
              "      <th>9</th>\n",
              "      <th>10</th>\n",
              "      <th>...</th>\n",
              "      <th>1673</th>\n",
              "      <th>1674</th>\n",
              "      <th>1675</th>\n",
              "      <th>1676</th>\n",
              "      <th>1677</th>\n",
              "      <th>1678</th>\n",
              "      <th>1679</th>\n",
              "      <th>1680</th>\n",
              "      <th>1681</th>\n",
              "      <th>1682</th>\n",
              "    </tr>\n",
              "    <tr>\n",
              "      <th>user_id</th>\n",
              "      <th></th>\n",
              "      <th></th>\n",
              "      <th></th>\n",
              "      <th></th>\n",
              "      <th></th>\n",
              "      <th></th>\n",
              "      <th></th>\n",
              "      <th></th>\n",
              "      <th></th>\n",
              "      <th></th>\n",
              "      <th></th>\n",
              "      <th></th>\n",
              "      <th></th>\n",
              "      <th></th>\n",
              "      <th></th>\n",
              "      <th></th>\n",
              "      <th></th>\n",
              "      <th></th>\n",
              "      <th></th>\n",
              "      <th></th>\n",
              "      <th></th>\n",
              "    </tr>\n",
              "  </thead>\n",
              "  <tbody>\n",
              "    <tr>\n",
              "      <th>1</th>\n",
              "      <td>5.0</td>\n",
              "      <td>3.0</td>\n",
              "      <td>4.0</td>\n",
              "      <td>3.0</td>\n",
              "      <td>3.0</td>\n",
              "      <td>5.0</td>\n",
              "      <td>4.0</td>\n",
              "      <td>1.0</td>\n",
              "      <td>5.0</td>\n",
              "      <td>3.0</td>\n",
              "      <td>...</td>\n",
              "      <td>0.0</td>\n",
              "      <td>0.0</td>\n",
              "      <td>0.0</td>\n",
              "      <td>0.0</td>\n",
              "      <td>0.0</td>\n",
              "      <td>0.0</td>\n",
              "      <td>0.0</td>\n",
              "      <td>0.0</td>\n",
              "      <td>0.0</td>\n",
              "      <td>0.0</td>\n",
              "    </tr>\n",
              "    <tr>\n",
              "      <th>2</th>\n",
              "      <td>4.0</td>\n",
              "      <td>0.0</td>\n",
              "      <td>0.0</td>\n",
              "      <td>0.0</td>\n",
              "      <td>0.0</td>\n",
              "      <td>0.0</td>\n",
              "      <td>0.0</td>\n",
              "      <td>0.0</td>\n",
              "      <td>0.0</td>\n",
              "      <td>2.0</td>\n",
              "      <td>...</td>\n",
              "      <td>0.0</td>\n",
              "      <td>0.0</td>\n",
              "      <td>0.0</td>\n",
              "      <td>0.0</td>\n",
              "      <td>0.0</td>\n",
              "      <td>0.0</td>\n",
              "      <td>0.0</td>\n",
              "      <td>0.0</td>\n",
              "      <td>0.0</td>\n",
              "      <td>0.0</td>\n",
              "    </tr>\n",
              "    <tr>\n",
              "      <th>3</th>\n",
              "      <td>0.0</td>\n",
              "      <td>0.0</td>\n",
              "      <td>0.0</td>\n",
              "      <td>0.0</td>\n",
              "      <td>0.0</td>\n",
              "      <td>0.0</td>\n",
              "      <td>0.0</td>\n",
              "      <td>0.0</td>\n",
              "      <td>0.0</td>\n",
              "      <td>0.0</td>\n",
              "      <td>...</td>\n",
              "      <td>0.0</td>\n",
              "      <td>0.0</td>\n",
              "      <td>0.0</td>\n",
              "      <td>0.0</td>\n",
              "      <td>0.0</td>\n",
              "      <td>0.0</td>\n",
              "      <td>0.0</td>\n",
              "      <td>0.0</td>\n",
              "      <td>0.0</td>\n",
              "      <td>0.0</td>\n",
              "    </tr>\n",
              "    <tr>\n",
              "      <th>4</th>\n",
              "      <td>0.0</td>\n",
              "      <td>0.0</td>\n",
              "      <td>0.0</td>\n",
              "      <td>0.0</td>\n",
              "      <td>0.0</td>\n",
              "      <td>0.0</td>\n",
              "      <td>0.0</td>\n",
              "      <td>0.0</td>\n",
              "      <td>0.0</td>\n",
              "      <td>0.0</td>\n",
              "      <td>...</td>\n",
              "      <td>0.0</td>\n",
              "      <td>0.0</td>\n",
              "      <td>0.0</td>\n",
              "      <td>0.0</td>\n",
              "      <td>0.0</td>\n",
              "      <td>0.0</td>\n",
              "      <td>0.0</td>\n",
              "      <td>0.0</td>\n",
              "      <td>0.0</td>\n",
              "      <td>0.0</td>\n",
              "    </tr>\n",
              "    <tr>\n",
              "      <th>5</th>\n",
              "      <td>4.0</td>\n",
              "      <td>3.0</td>\n",
              "      <td>0.0</td>\n",
              "      <td>0.0</td>\n",
              "      <td>0.0</td>\n",
              "      <td>0.0</td>\n",
              "      <td>0.0</td>\n",
              "      <td>0.0</td>\n",
              "      <td>0.0</td>\n",
              "      <td>0.0</td>\n",
              "      <td>...</td>\n",
              "      <td>0.0</td>\n",
              "      <td>0.0</td>\n",
              "      <td>0.0</td>\n",
              "      <td>0.0</td>\n",
              "      <td>0.0</td>\n",
              "      <td>0.0</td>\n",
              "      <td>0.0</td>\n",
              "      <td>0.0</td>\n",
              "      <td>0.0</td>\n",
              "      <td>0.0</td>\n",
              "    </tr>\n",
              "  </tbody>\n",
              "</table>\n",
              "<p>5 rows × 1682 columns</p>\n",
              "</div>"
            ],
            "text/plain": [
              "movie_id  1     2     3     4     5     6     7     8     9     10    ...  \\\n",
              "user_id                                                               ...   \n",
              "1          5.0   3.0   4.0   3.0   3.0   5.0   4.0   1.0   5.0   3.0  ...   \n",
              "2          4.0   0.0   0.0   0.0   0.0   0.0   0.0   0.0   0.0   2.0  ...   \n",
              "3          0.0   0.0   0.0   0.0   0.0   0.0   0.0   0.0   0.0   0.0  ...   \n",
              "4          0.0   0.0   0.0   0.0   0.0   0.0   0.0   0.0   0.0   0.0  ...   \n",
              "5          4.0   3.0   0.0   0.0   0.0   0.0   0.0   0.0   0.0   0.0  ...   \n",
              "\n",
              "movie_id  1673  1674  1675  1676  1677  1678  1679  1680  1681  1682  \n",
              "user_id                                                               \n",
              "1          0.0   0.0   0.0   0.0   0.0   0.0   0.0   0.0   0.0   0.0  \n",
              "2          0.0   0.0   0.0   0.0   0.0   0.0   0.0   0.0   0.0   0.0  \n",
              "3          0.0   0.0   0.0   0.0   0.0   0.0   0.0   0.0   0.0   0.0  \n",
              "4          0.0   0.0   0.0   0.0   0.0   0.0   0.0   0.0   0.0   0.0  \n",
              "5          0.0   0.0   0.0   0.0   0.0   0.0   0.0   0.0   0.0   0.0  \n",
              "\n",
              "[5 rows x 1682 columns]"
            ]
          },
          "execution_count": 17,
          "metadata": {},
          "output_type": "execute_result"
        }
      ],
      "source": [
        "mtrx_df = u_data_df.pivot(index = 'user_id', columns ='movie_id', values = 'rating').fillna(0)\n",
        "mtrx_df.head()"
      ]
    },
    {
      "cell_type": "markdown",
      "id": "YvHGHCOxjjTz",
      "metadata": {
        "id": "YvHGHCOxjjTz"
      },
      "source": [
        " Demeaning involves subtracting the mean rating for each user from their ratings. This centers the data around zero for each user, effectively removing individual biases. Some users may consistently rate higher or lower than others, and centering helps account for these tendencies."
      ]
    },
    {
      "cell_type": "code",
      "execution_count": 18,
      "id": "cN_Aiofledqb",
      "metadata": {
        "id": "cN_Aiofledqb"
      },
      "outputs": [],
      "source": [
        "# Demean the data\n",
        "mtrx = mtrx_df.to_numpy()\n",
        "ratings_mean = np.mean(mtrx, axis = 1)\n",
        "normalized_mtrx = mtrx - ratings_mean.reshape(-1, 1)"
      ]
    },
    {
      "cell_type": "markdown",
      "id": "wNINKoY6j6Ix",
      "metadata": {
        "id": "wNINKoY6j6Ix"
      },
      "source": [
        "Decomposing the matrix into user vectors and item vectors."
      ]
    },
    {
      "cell_type": "code",
      "execution_count": 19,
      "id": "4IVkfeoskzvo",
      "metadata": {
        "id": "4IVkfeoskzvo"
      },
      "outputs": [],
      "source": [
        "\n",
        "from scipy.sparse.linalg import svds"
      ]
    },
    {
      "cell_type": "code",
      "execution_count": 20,
      "id": "TeV9iBvBj-9I",
      "metadata": {
        "id": "TeV9iBvBj-9I"
      },
      "outputs": [],
      "source": [
        "# Singular value decomposition\n",
        "U, sigma, Vt = svds(normalized_mtrx, k = 50)"
      ]
    },
    {
      "cell_type": "markdown",
      "id": "OZ20ts_AlJH-",
      "metadata": {
        "id": "OZ20ts_AlJH-"
      },
      "source": [
        "U: A matrix where each row represents a user in terms of latent factors.\n",
        "\n",
        "sigma: A vector containing the top k singular values.\n",
        "\n",
        "Vt: A matrix where each column represents an item in terms of latent factors"
      ]
    },
    {
      "cell_type": "markdown",
      "id": "KUqMyASZlg6G",
      "metadata": {
        "id": "KUqMyASZlg6G"
      },
      "source": [
        "## Product-wise Multiplication for each user-movie pairs\n"
      ]
    },
    {
      "cell_type": "code",
      "execution_count": 21,
      "id": "pa9-YrChlruK",
      "metadata": {
        "colab": {
          "base_uri": "https://localhost:8080/",
          "height": 255
        },
        "id": "pa9-YrChlruK",
        "outputId": "5658718c-92db-42ce-8799-2f3b08bd02a9"
      },
      "outputs": [
        {
          "data": {
            "text/html": [
              "<div>\n",
              "<style scoped>\n",
              "    .dataframe tbody tr th:only-of-type {\n",
              "        vertical-align: middle;\n",
              "    }\n",
              "\n",
              "    .dataframe tbody tr th {\n",
              "        vertical-align: top;\n",
              "    }\n",
              "\n",
              "    .dataframe thead th {\n",
              "        text-align: right;\n",
              "    }\n",
              "</style>\n",
              "<table border=\"1\" class=\"dataframe\">\n",
              "  <thead>\n",
              "    <tr style=\"text-align: right;\">\n",
              "      <th>movie_id</th>\n",
              "      <th>1</th>\n",
              "      <th>2</th>\n",
              "      <th>3</th>\n",
              "      <th>4</th>\n",
              "      <th>5</th>\n",
              "      <th>6</th>\n",
              "      <th>7</th>\n",
              "      <th>8</th>\n",
              "      <th>9</th>\n",
              "      <th>10</th>\n",
              "      <th>...</th>\n",
              "      <th>1673</th>\n",
              "      <th>1674</th>\n",
              "      <th>1675</th>\n",
              "      <th>1676</th>\n",
              "      <th>1677</th>\n",
              "      <th>1678</th>\n",
              "      <th>1679</th>\n",
              "      <th>1680</th>\n",
              "      <th>1681</th>\n",
              "      <th>1682</th>\n",
              "    </tr>\n",
              "  </thead>\n",
              "  <tbody>\n",
              "    <tr>\n",
              "      <th>0</th>\n",
              "      <td>6.488436</td>\n",
              "      <td>2.959503</td>\n",
              "      <td>1.634987</td>\n",
              "      <td>3.024467</td>\n",
              "      <td>1.656526</td>\n",
              "      <td>1.659506</td>\n",
              "      <td>3.630469</td>\n",
              "      <td>0.240669</td>\n",
              "      <td>1.791518</td>\n",
              "      <td>3.347816</td>\n",
              "      <td>...</td>\n",
              "      <td>0.011976</td>\n",
              "      <td>-0.092017</td>\n",
              "      <td>-0.074553</td>\n",
              "      <td>-0.060985</td>\n",
              "      <td>0.009427</td>\n",
              "      <td>-0.035641</td>\n",
              "      <td>-0.039227</td>\n",
              "      <td>-0.037434</td>\n",
              "      <td>-0.025552</td>\n",
              "      <td>0.023513</td>\n",
              "    </tr>\n",
              "    <tr>\n",
              "      <th>1</th>\n",
              "      <td>2.347262</td>\n",
              "      <td>0.129689</td>\n",
              "      <td>-0.098917</td>\n",
              "      <td>0.328828</td>\n",
              "      <td>0.159517</td>\n",
              "      <td>0.481361</td>\n",
              "      <td>0.213002</td>\n",
              "      <td>0.097908</td>\n",
              "      <td>1.892100</td>\n",
              "      <td>0.671000</td>\n",
              "      <td>...</td>\n",
              "      <td>0.003943</td>\n",
              "      <td>-0.026939</td>\n",
              "      <td>-0.035460</td>\n",
              "      <td>-0.029883</td>\n",
              "      <td>-0.027153</td>\n",
              "      <td>-0.015244</td>\n",
              "      <td>-0.008277</td>\n",
              "      <td>-0.011760</td>\n",
              "      <td>0.011639</td>\n",
              "      <td>-0.046924</td>\n",
              "    </tr>\n",
              "    <tr>\n",
              "      <th>2</th>\n",
              "      <td>0.291905</td>\n",
              "      <td>-0.263830</td>\n",
              "      <td>-0.151454</td>\n",
              "      <td>-0.179289</td>\n",
              "      <td>0.013462</td>\n",
              "      <td>-0.088309</td>\n",
              "      <td>-0.057624</td>\n",
              "      <td>0.568764</td>\n",
              "      <td>-0.018506</td>\n",
              "      <td>0.280742</td>\n",
              "      <td>...</td>\n",
              "      <td>-0.028964</td>\n",
              "      <td>-0.031622</td>\n",
              "      <td>0.045513</td>\n",
              "      <td>0.026089</td>\n",
              "      <td>-0.021705</td>\n",
              "      <td>0.002282</td>\n",
              "      <td>0.032363</td>\n",
              "      <td>0.017322</td>\n",
              "      <td>-0.006644</td>\n",
              "      <td>-0.009480</td>\n",
              "    </tr>\n",
              "    <tr>\n",
              "      <th>3</th>\n",
              "      <td>0.366410</td>\n",
              "      <td>-0.443535</td>\n",
              "      <td>0.041151</td>\n",
              "      <td>-0.007616</td>\n",
              "      <td>0.055373</td>\n",
              "      <td>-0.080352</td>\n",
              "      <td>0.299015</td>\n",
              "      <td>-0.010882</td>\n",
              "      <td>-0.160888</td>\n",
              "      <td>-0.118834</td>\n",
              "      <td>...</td>\n",
              "      <td>0.020069</td>\n",
              "      <td>0.015981</td>\n",
              "      <td>-0.000182</td>\n",
              "      <td>0.005593</td>\n",
              "      <td>0.026634</td>\n",
              "      <td>0.023562</td>\n",
              "      <td>0.036405</td>\n",
              "      <td>0.029984</td>\n",
              "      <td>0.015612</td>\n",
              "      <td>-0.008713</td>\n",
              "    </tr>\n",
              "    <tr>\n",
              "      <th>4</th>\n",
              "      <td>4.263488</td>\n",
              "      <td>1.937122</td>\n",
              "      <td>0.052529</td>\n",
              "      <td>1.049350</td>\n",
              "      <td>0.652765</td>\n",
              "      <td>0.002836</td>\n",
              "      <td>1.730461</td>\n",
              "      <td>0.870584</td>\n",
              "      <td>0.341027</td>\n",
              "      <td>0.569055</td>\n",
              "      <td>...</td>\n",
              "      <td>0.019973</td>\n",
              "      <td>-0.053521</td>\n",
              "      <td>-0.017242</td>\n",
              "      <td>-0.007137</td>\n",
              "      <td>-0.038987</td>\n",
              "      <td>0.010338</td>\n",
              "      <td>0.004869</td>\n",
              "      <td>0.007603</td>\n",
              "      <td>-0.020575</td>\n",
              "      <td>0.003330</td>\n",
              "    </tr>\n",
              "  </tbody>\n",
              "</table>\n",
              "<p>5 rows × 1682 columns</p>\n",
              "</div>"
            ],
            "text/plain": [
              "movie_id      1         2         3         4         5         6     \\\n",
              "0         6.488436  2.959503  1.634987  3.024467  1.656526  1.659506   \n",
              "1         2.347262  0.129689 -0.098917  0.328828  0.159517  0.481361   \n",
              "2         0.291905 -0.263830 -0.151454 -0.179289  0.013462 -0.088309   \n",
              "3         0.366410 -0.443535  0.041151 -0.007616  0.055373 -0.080352   \n",
              "4         4.263488  1.937122  0.052529  1.049350  0.652765  0.002836   \n",
              "\n",
              "movie_id      7         8         9         10    ...      1673      1674  \\\n",
              "0         3.630469  0.240669  1.791518  3.347816  ...  0.011976 -0.092017   \n",
              "1         0.213002  0.097908  1.892100  0.671000  ...  0.003943 -0.026939   \n",
              "2        -0.057624  0.568764 -0.018506  0.280742  ... -0.028964 -0.031622   \n",
              "3         0.299015 -0.010882 -0.160888 -0.118834  ...  0.020069  0.015981   \n",
              "4         1.730461  0.870584  0.341027  0.569055  ...  0.019973 -0.053521   \n",
              "\n",
              "movie_id      1675      1676      1677      1678      1679      1680  \\\n",
              "0        -0.074553 -0.060985  0.009427 -0.035641 -0.039227 -0.037434   \n",
              "1        -0.035460 -0.029883 -0.027153 -0.015244 -0.008277 -0.011760   \n",
              "2         0.045513  0.026089 -0.021705  0.002282  0.032363  0.017322   \n",
              "3        -0.000182  0.005593  0.026634  0.023562  0.036405  0.029984   \n",
              "4        -0.017242 -0.007137 -0.038987  0.010338  0.004869  0.007603   \n",
              "\n",
              "movie_id      1681      1682  \n",
              "0        -0.025552  0.023513  \n",
              "1         0.011639 -0.046924  \n",
              "2        -0.006644 -0.009480  \n",
              "3         0.015612 -0.008713  \n",
              "4        -0.020575  0.003330  \n",
              "\n",
              "[5 rows x 1682 columns]"
            ]
          },
          "execution_count": 21,
          "metadata": {},
          "output_type": "execute_result"
        }
      ],
      "source": [
        "# Convert to diagonal form\n",
        "sigma = np.diag(sigma)\n",
        "# Make predictions for any user\n",
        "all_predicted_ratings = np.dot(np.dot(U, sigma), Vt) + ratings_mean.reshape(-1, 1)\n",
        "preds_df = pd.DataFrame(all_predicted_ratings, columns = mtrx_df.columns)\n",
        "preds_df.head()"
      ]
    },
    {
      "cell_type": "code",
      "execution_count": 22,
      "id": "AP0oF7xBeu_5",
      "metadata": {
        "id": "AP0oF7xBeu_5"
      },
      "outputs": [],
      "source": [
        "def recommend_movies(preds_df, user_id, movie, ratings_df, num_recommendations=5):\n",
        "    #Since index starts from zero, to get user row number\n",
        "    user_row_number = user_id-1\n",
        "    # Sort user's predictons\n",
        "    sorted_user_predictions = preds_df.iloc[user_row_number].sort_values(ascending=False)\n",
        "    # List movies user already rated\n",
        "    user_data = ratings_df[ratings_df.user_id == (user_id)]\n",
        "    user_rated = (user_data.merge(movie, how = 'left', left_on = 'movie_id', right_on = 'movie_id').\n",
        "                  sort_values(['rating'], ascending=False)\n",
        "                 )\n",
        "    recommendations = (movie[~movie['movie_id'].isin(user_rated['movie_id'])].\n",
        "         merge(pd.DataFrame(sorted_user_predictions).reset_index(), how = 'left',\n",
        "               left_on = 'movie_id',\n",
        "               right_on = 'movie_id').\n",
        "               rename(columns = {user_row_number: 'Predictions'}).\n",
        "               sort_values('Predictions', ascending = False).\n",
        "               iloc[:num_recommendations, :-1]\n",
        "                      )\n",
        "\n",
        "    return user_rated, recommendations"
      ]
    },
    {
      "cell_type": "markdown",
      "id": "lAbvq0IDm6w1",
      "metadata": {
        "id": "lAbvq0IDm6w1"
      },
      "source": [
        "## Evaluation for Matrix Factorization"
      ]
    },
    {
      "cell_type": "code",
      "execution_count": 23,
      "id": "5z09Z50wm3tV",
      "metadata": {
        "id": "5z09Z50wm3tV"
      },
      "outputs": [],
      "source": [
        "from sklearn.metrics import mean_squared_error, mean_absolute_error, r2_score\n",
        "import numpy as np\n",
        "\n",
        "latent_sizes = [20, 30, 40, 50]\n",
        "rmses = []\n",
        "maes=[]\n",
        "mses=[]\n",
        "r2s=[]\n",
        "\n",
        "\n",
        "for k in latent_sizes:\n",
        "    # Demean the data\n",
        "    mtrx = mtrx_df.to_numpy()\n",
        "    ratings_mean = np.mean(mtrx, axis=1)\n",
        "    normalized_mtrx = mtrx - ratings_mean.reshape(-1, 1)\n",
        "\n",
        "    # Perform Singular Value Decomposition\n",
        "    U, sigma, Vt = svds(normalized_mtrx, k=k)\n",
        "    sigma = np.diag(sigma)\n",
        "\n",
        "    # Make predictions\n",
        "    all_predicted_ratings = np.dot(np.dot(U, sigma), Vt) + ratings_mean.reshape(-1, 1)\n",
        "    preds_df = pd.DataFrame(all_predicted_ratings, columns=mtrx_df.columns)\n",
        "\n",
        "    # Flatten true and predicted ratings for evaluation\n",
        "    true_ratings = mtrx_df.to_numpy().flatten()\n",
        "    pred_ratings = preds_df.to_numpy().flatten()\n",
        "    #RMSE calculation\n",
        "    rmse = np.sqrt(mean_squared_error(true_ratings, pred_ratings))\n",
        "    rmses.append(rmse)\n",
        "    #MAE calculation\n",
        "    mae = mean_absolute_error(true_ratings, pred_ratings)\n",
        "    maes.append(mae)\n",
        "    #MSE calculation\n",
        "    mse = mean_squared_error(true_ratings, pred_ratings)\n",
        "    mses.append(mse)\n",
        "    #R2 calculation\n",
        "    r2 = r2_score(true_ratings, pred_ratings)\n",
        "    r2s.append(r2)\n",
        "\n",
        "#Save evaluation metrics\n",
        "# results_df = pd.DataFrame({'Latent Size': latent_sizes, 'RMSE': rmses})\n",
        "# results_df.to_csv('latent_size_rmse.csv', index=False)\n",
        "evaluation_metrics = pd.DataFrame({\n",
        "    'Latent Size': latent_sizes,\n",
        "    'RMSE': rmses,\n",
        "    'MAE': maes,\n",
        "    'MSE': mses,\n",
        "    'R^2': r2s\n",
        "})\n",
        "\n",
        "# Save the evaluation metrics to a CSV file\n",
        "evaluation_metrics.to_csv('latent_size_evaluation_metrics.csv', index=False)\n"
      ]
    },
    {
      "cell_type": "code",
      "execution_count": 24,
      "id": "9wnmiGBiqsW-",
      "metadata": {
        "colab": {
          "base_uri": "https://localhost:8080/",
          "height": 175
        },
        "id": "9wnmiGBiqsW-",
        "outputId": "581bc50c-c243-4edf-9c43-42421a6adfd7"
      },
      "outputs": [
        {
          "data": {
            "text/html": [
              "<div>\n",
              "<style scoped>\n",
              "    .dataframe tbody tr th:only-of-type {\n",
              "        vertical-align: middle;\n",
              "    }\n",
              "\n",
              "    .dataframe tbody tr th {\n",
              "        vertical-align: top;\n",
              "    }\n",
              "\n",
              "    .dataframe thead th {\n",
              "        text-align: right;\n",
              "    }\n",
              "</style>\n",
              "<table border=\"1\" class=\"dataframe\">\n",
              "  <thead>\n",
              "    <tr style=\"text-align: right;\">\n",
              "      <th></th>\n",
              "      <th>Latent Size</th>\n",
              "      <th>RMSE</th>\n",
              "      <th>MAE</th>\n",
              "      <th>MSE</th>\n",
              "      <th>R^2</th>\n",
              "    </tr>\n",
              "  </thead>\n",
              "  <tbody>\n",
              "    <tr>\n",
              "      <th>0</th>\n",
              "      <td>20</td>\n",
              "      <td>0.644835</td>\n",
              "      <td>0.281564</td>\n",
              "      <td>0.415812</td>\n",
              "      <td>0.490375</td>\n",
              "    </tr>\n",
              "    <tr>\n",
              "      <th>1</th>\n",
              "      <td>30</td>\n",
              "      <td>0.620485</td>\n",
              "      <td>0.277672</td>\n",
              "      <td>0.385001</td>\n",
              "      <td>0.528137</td>\n",
              "    </tr>\n",
              "    <tr>\n",
              "      <th>2</th>\n",
              "      <td>40</td>\n",
              "      <td>0.599208</td>\n",
              "      <td>0.274720</td>\n",
              "      <td>0.359050</td>\n",
              "      <td>0.559944</td>\n",
              "    </tr>\n",
              "    <tr>\n",
              "      <th>3</th>\n",
              "      <td>50</td>\n",
              "      <td>0.579646</td>\n",
              "      <td>0.271563</td>\n",
              "      <td>0.335990</td>\n",
              "      <td>0.588206</td>\n",
              "    </tr>\n",
              "  </tbody>\n",
              "</table>\n",
              "</div>"
            ],
            "text/plain": [
              "   Latent Size      RMSE       MAE       MSE       R^2\n",
              "0           20  0.644835  0.281564  0.415812  0.490375\n",
              "1           30  0.620485  0.277672  0.385001  0.528137\n",
              "2           40  0.599208  0.274720  0.359050  0.559944\n",
              "3           50  0.579646  0.271563  0.335990  0.588206"
            ]
          },
          "execution_count": 24,
          "metadata": {},
          "output_type": "execute_result"
        }
      ],
      "source": [
        "evaluation_metrics"
      ]
    },
    {
      "cell_type": "code",
      "execution_count": 25,
      "id": "jhMXSlZk8oOi",
      "metadata": {
        "colab": {
          "base_uri": "https://localhost:8080/",
          "height": 485
        },
        "id": "jhMXSlZk8oOi",
        "outputId": "f005f9bb-03ec-431a-d826-5cfe78b4b8e6"
      },
      "outputs": [
        {
          "data": {
            "image/png": "[encoded data removed]",
            "text/plain": [
              "<Figure size 1200x800 with 1 Axes>"
            ]
          },
          "metadata": {},
          "output_type": "display_data"
        }
      ],
      "source": [
        "import matplotlib.pyplot as plt\n",
        "\n",
        "# Plotting the evaluation metrics\n",
        "plt.figure(figsize=(12, 8))\n",
        "\n",
        "# Plot RMSE\n",
        "plt.plot(latent_sizes, rmses, marker='o', label='RMSE')\n",
        "\n",
        "# Plot MAE\n",
        "plt.plot(latent_sizes, maes, marker='o', label='MAE')\n",
        "\n",
        "# Plot MSE\n",
        "plt.plot(latent_sizes, mses, marker='o', label='MSE')\n",
        "\n",
        "# Plot R^2 Score\n",
        "plt.plot(latent_sizes, r2s, marker='o', label='R^2')\n",
        "\n",
        "plt.xlabel('Latent Vector Size')\n",
        "plt.ylabel('Score')\n",
        "plt.title('Evaluation Metrics for Different Latent Vector Sizes')\n",
        "plt.legend()\n",
        "plt.grid(True)\n",
        "plt.show()\n"
      ]
    },
    {
      "cell_type": "markdown",
      "id": "omMkJH6SoHnh",
      "metadata": {
        "id": "omMkJH6SoHnh"
      },
      "source": []
    },
    {
      "cell_type": "code",
      "execution_count": 26,
      "id": "r4Sasi69oEP2",
      "metadata": {
        "id": "r4Sasi69oEP2"
      },
      "outputs": [],
      "source": [
        "#for random user_id 100\n",
        "already_rated, predictions = recommend_movies(preds_df, 100,u_item_df, u_data_df, 10)"
      ]
    },
    {
      "cell_type": "code",
      "execution_count": 27,
      "id": "dcx-kbgboTNR",
      "metadata": {
        "colab": {
          "base_uri": "https://localhost:8080/",
          "height": 655
        },
        "id": "dcx-kbgboTNR",
        "outputId": "b5b85f13-a45d-40ba-dd9d-62008e263631"
      },
      "outputs": [
        {
          "data": {
            "text/html": [
              "<div>\n",
              "<style scoped>\n",
              "    .dataframe tbody tr th:only-of-type {\n",
              "        vertical-align: middle;\n",
              "    }\n",
              "\n",
              "    .dataframe tbody tr th {\n",
              "        vertical-align: top;\n",
              "    }\n",
              "\n",
              "    .dataframe thead th {\n",
              "        text-align: right;\n",
              "    }\n",
              "</style>\n",
              "<table border=\"1\" class=\"dataframe\">\n",
              "  <thead>\n",
              "    <tr style=\"text-align: right;\">\n",
              "      <th></th>\n",
              "      <th>user_id</th>\n",
              "      <th>movie_id</th>\n",
              "      <th>rating</th>\n",
              "      <th>timestamp</th>\n",
              "      <th>movie_title</th>\n",
              "      <th>release_date</th>\n",
              "      <th>video_release_date</th>\n",
              "      <th>imdb_url</th>\n",
              "      <th>unknown</th>\n",
              "      <th>action</th>\n",
              "      <th>...</th>\n",
              "      <th>fantasy</th>\n",
              "      <th>film_noir</th>\n",
              "      <th>horror</th>\n",
              "      <th>musical</th>\n",
              "      <th>mystery</th>\n",
              "      <th>romance</th>\n",
              "      <th>sci_fi</th>\n",
              "      <th>thriller</th>\n",
              "      <th>war</th>\n",
              "      <th>western</th>\n",
              "    </tr>\n",
              "  </thead>\n",
              "  <tbody>\n",
              "    <tr>\n",
              "      <th>58</th>\n",
              "      <td>100</td>\n",
              "      <td>315</td>\n",
              "      <td>5</td>\n",
              "      <td>891375557</td>\n",
              "      <td>Apt Pupil (1998)</td>\n",
              "      <td>23-Oct-1998</td>\n",
              "      <td>NaN</td>\n",
              "      <td>http://us.imdb.com/Title?Apt+Pupil+(1998)</td>\n",
              "      <td>0</td>\n",
              "      <td>0</td>\n",
              "      <td>...</td>\n",
              "      <td>0</td>\n",
              "      <td>0</td>\n",
              "      <td>0</td>\n",
              "      <td>0</td>\n",
              "      <td>0</td>\n",
              "      <td>0</td>\n",
              "      <td>0</td>\n",
              "      <td>1</td>\n",
              "      <td>0</td>\n",
              "      <td>0</td>\n",
              "    </tr>\n",
              "    <tr>\n",
              "      <th>14</th>\n",
              "      <td>100</td>\n",
              "      <td>316</td>\n",
              "      <td>5</td>\n",
              "      <td>891375313</td>\n",
              "      <td>As Good As It Gets (1997)</td>\n",
              "      <td>23-Dec-1997</td>\n",
              "      <td>NaN</td>\n",
              "      <td>http://us.imdb.com/Title?As+Good+As+It+Gets+(1...</td>\n",
              "      <td>0</td>\n",
              "      <td>0</td>\n",
              "      <td>...</td>\n",
              "      <td>0</td>\n",
              "      <td>0</td>\n",
              "      <td>0</td>\n",
              "      <td>0</td>\n",
              "      <td>0</td>\n",
              "      <td>0</td>\n",
              "      <td>0</td>\n",
              "      <td>0</td>\n",
              "      <td>0</td>\n",
              "      <td>0</td>\n",
              "    </tr>\n",
              "    <tr>\n",
              "      <th>22</th>\n",
              "      <td>100</td>\n",
              "      <td>313</td>\n",
              "      <td>5</td>\n",
              "      <td>891374706</td>\n",
              "      <td>Titanic (1997)</td>\n",
              "      <td>01-Jan-1997</td>\n",
              "      <td>NaN</td>\n",
              "      <td>http://us.imdb.com/M/title-exact?imdb-title-12...</td>\n",
              "      <td>0</td>\n",
              "      <td>1</td>\n",
              "      <td>...</td>\n",
              "      <td>0</td>\n",
              "      <td>0</td>\n",
              "      <td>0</td>\n",
              "      <td>0</td>\n",
              "      <td>0</td>\n",
              "      <td>1</td>\n",
              "      <td>0</td>\n",
              "      <td>0</td>\n",
              "      <td>0</td>\n",
              "      <td>0</td>\n",
              "    </tr>\n",
              "    <tr>\n",
              "      <th>55</th>\n",
              "      <td>100</td>\n",
              "      <td>751</td>\n",
              "      <td>4</td>\n",
              "      <td>891374868</td>\n",
              "      <td>Tomorrow Never Dies (1997)</td>\n",
              "      <td>01-Jan-1997</td>\n",
              "      <td>NaN</td>\n",
              "      <td>http://us.imdb.com/M/title-exact?imdb-title-12...</td>\n",
              "      <td>0</td>\n",
              "      <td>1</td>\n",
              "      <td>...</td>\n",
              "      <td>0</td>\n",
              "      <td>0</td>\n",
              "      <td>0</td>\n",
              "      <td>0</td>\n",
              "      <td>0</td>\n",
              "      <td>1</td>\n",
              "      <td>0</td>\n",
              "      <td>1</td>\n",
              "      <td>0</td>\n",
              "      <td>0</td>\n",
              "    </tr>\n",
              "    <tr>\n",
              "      <th>48</th>\n",
              "      <td>100</td>\n",
              "      <td>272</td>\n",
              "      <td>4</td>\n",
              "      <td>891375629</td>\n",
              "      <td>Good Will Hunting (1997)</td>\n",
              "      <td>01-Jan-1997</td>\n",
              "      <td>NaN</td>\n",
              "      <td>http://us.imdb.com/M/title-exact?imdb-title-11...</td>\n",
              "      <td>0</td>\n",
              "      <td>0</td>\n",
              "      <td>...</td>\n",
              "      <td>0</td>\n",
              "      <td>0</td>\n",
              "      <td>0</td>\n",
              "      <td>0</td>\n",
              "      <td>0</td>\n",
              "      <td>0</td>\n",
              "      <td>0</td>\n",
              "      <td>0</td>\n",
              "      <td>0</td>\n",
              "      <td>0</td>\n",
              "    </tr>\n",
              "    <tr>\n",
              "      <th>47</th>\n",
              "      <td>100</td>\n",
              "      <td>294</td>\n",
              "      <td>4</td>\n",
              "      <td>891375313</td>\n",
              "      <td>Liar Liar (1997)</td>\n",
              "      <td>21-Mar-1997</td>\n",
              "      <td>NaN</td>\n",
              "      <td>http://us.imdb.com/Title?Liar+Liar+(1997)</td>\n",
              "      <td>0</td>\n",
              "      <td>0</td>\n",
              "      <td>...</td>\n",
              "      <td>0</td>\n",
              "      <td>0</td>\n",
              "      <td>0</td>\n",
              "      <td>0</td>\n",
              "      <td>0</td>\n",
              "      <td>0</td>\n",
              "      <td>0</td>\n",
              "      <td>0</td>\n",
              "      <td>0</td>\n",
              "      <td>0</td>\n",
              "    </tr>\n",
              "    <tr>\n",
              "      <th>45</th>\n",
              "      <td>100</td>\n",
              "      <td>900</td>\n",
              "      <td>4</td>\n",
              "      <td>891374832</td>\n",
              "      <td>Kundun (1997)</td>\n",
              "      <td>25-Dec-1997</td>\n",
              "      <td>NaN</td>\n",
              "      <td>http://us.imdb.com/M/title-exact?imdb-title-11...</td>\n",
              "      <td>0</td>\n",
              "      <td>0</td>\n",
              "      <td>...</td>\n",
              "      <td>0</td>\n",
              "      <td>0</td>\n",
              "      <td>0</td>\n",
              "      <td>0</td>\n",
              "      <td>0</td>\n",
              "      <td>0</td>\n",
              "      <td>0</td>\n",
              "      <td>0</td>\n",
              "      <td>0</td>\n",
              "      <td>0</td>\n",
              "    </tr>\n",
              "    <tr>\n",
              "      <th>44</th>\n",
              "      <td>100</td>\n",
              "      <td>258</td>\n",
              "      <td>4</td>\n",
              "      <td>891374675</td>\n",
              "      <td>Contact (1997)</td>\n",
              "      <td>11-Jul-1997</td>\n",
              "      <td>NaN</td>\n",
              "      <td>http://us.imdb.com/Title?Contact+(1997/I)</td>\n",
              "      <td>0</td>\n",
              "      <td>0</td>\n",
              "      <td>...</td>\n",
              "      <td>0</td>\n",
              "      <td>0</td>\n",
              "      <td>0</td>\n",
              "      <td>0</td>\n",
              "      <td>0</td>\n",
              "      <td>0</td>\n",
              "      <td>1</td>\n",
              "      <td>0</td>\n",
              "      <td>0</td>\n",
              "      <td>0</td>\n",
              "    </tr>\n",
              "    <tr>\n",
              "      <th>19</th>\n",
              "      <td>100</td>\n",
              "      <td>752</td>\n",
              "      <td>4</td>\n",
              "      <td>891375146</td>\n",
              "      <td>Replacement Killers, The (1998)</td>\n",
              "      <td>06-Feb-1998</td>\n",
              "      <td>NaN</td>\n",
              "      <td>http://us.imdb.com/M/title-exact?Replacement+K...</td>\n",
              "      <td>0</td>\n",
              "      <td>1</td>\n",
              "      <td>...</td>\n",
              "      <td>0</td>\n",
              "      <td>0</td>\n",
              "      <td>0</td>\n",
              "      <td>0</td>\n",
              "      <td>0</td>\n",
              "      <td>0</td>\n",
              "      <td>0</td>\n",
              "      <td>1</td>\n",
              "      <td>0</td>\n",
              "      <td>0</td>\n",
              "    </tr>\n",
              "    <tr>\n",
              "      <th>38</th>\n",
              "      <td>100</td>\n",
              "      <td>347</td>\n",
              "      <td>4</td>\n",
              "      <td>891375212</td>\n",
              "      <td>Wag the Dog (1997)</td>\n",
              "      <td>09-Jan-1998</td>\n",
              "      <td>NaN</td>\n",
              "      <td>http://us.imdb.com/M/title-exact?imdb-title-12...</td>\n",
              "      <td>0</td>\n",
              "      <td>0</td>\n",
              "      <td>...</td>\n",
              "      <td>0</td>\n",
              "      <td>0</td>\n",
              "      <td>0</td>\n",
              "      <td>0</td>\n",
              "      <td>0</td>\n",
              "      <td>0</td>\n",
              "      <td>0</td>\n",
              "      <td>0</td>\n",
              "      <td>0</td>\n",
              "      <td>0</td>\n",
              "    </tr>\n",
              "  </tbody>\n",
              "</table>\n",
              "<p>10 rows × 27 columns</p>\n",
              "</div>"
            ],
            "text/plain": [
              "    user_id  movie_id  rating  timestamp                      movie_title  \\\n",
              "58      100       315       5  891375557                 Apt Pupil (1998)   \n",
              "14      100       316       5  891375313        As Good As It Gets (1997)   \n",
              "22      100       313       5  891374706                   Titanic (1997)   \n",
              "55      100       751       4  891374868       Tomorrow Never Dies (1997)   \n",
              "48      100       272       4  891375629         Good Will Hunting (1997)   \n",
              "47      100       294       4  891375313                 Liar Liar (1997)   \n",
              "45      100       900       4  891374832                    Kundun (1997)   \n",
              "44      100       258       4  891374675                   Contact (1997)   \n",
              "19      100       752       4  891375146  Replacement Killers, The (1998)   \n",
              "38      100       347       4  891375212               Wag the Dog (1997)   \n",
              "\n",
              "   release_date  video_release_date  \\\n",
              "58  23-Oct-1998                 NaN   \n",
              "14  23-Dec-1997                 NaN   \n",
              "22  01-Jan-1997                 NaN   \n",
              "55  01-Jan-1997                 NaN   \n",
              "48  01-Jan-1997                 NaN   \n",
              "47  21-Mar-1997                 NaN   \n",
              "45  25-Dec-1997                 NaN   \n",
              "44  11-Jul-1997                 NaN   \n",
              "19  06-Feb-1998                 NaN   \n",
              "38  09-Jan-1998                 NaN   \n",
              "\n",
              "                                             imdb_url  unknown  action  ...  \\\n",
              "58          http://us.imdb.com/Title?Apt+Pupil+(1998)        0       0  ...   \n",
              "14  http://us.imdb.com/Title?As+Good+As+It+Gets+(1...        0       0  ...   \n",
              "22  http://us.imdb.com/M/title-exact?imdb-title-12...        0       1  ...   \n",
              "55  http://us.imdb.com/M/title-exact?imdb-title-12...        0       1  ...   \n",
              "48  http://us.imdb.com/M/title-exact?imdb-title-11...        0       0  ...   \n",
              "47          http://us.imdb.com/Title?Liar+Liar+(1997)        0       0  ...   \n",
              "45  http://us.imdb.com/M/title-exact?imdb-title-11...        0       0  ...   \n",
              "44          http://us.imdb.com/Title?Contact+(1997/I)        0       0  ...   \n",
              "19  http://us.imdb.com/M/title-exact?Replacement+K...        0       1  ...   \n",
              "38  http://us.imdb.com/M/title-exact?imdb-title-12...        0       0  ...   \n",
              "\n",
              "    fantasy  film_noir  horror  musical  mystery  romance  sci_fi  thriller  \\\n",
              "58        0          0       0        0        0        0       0         1   \n",
              "14        0          0       0        0        0        0       0         0   \n",
              "22        0          0       0        0        0        1       0         0   \n",
              "55        0          0       0        0        0        1       0         1   \n",
              "48        0          0       0        0        0        0       0         0   \n",
              "47        0          0       0        0        0        0       0         0   \n",
              "45        0          0       0        0        0        0       0         0   \n",
              "44        0          0       0        0        0        0       1         0   \n",
              "19        0          0       0        0        0        0       0         1   \n",
              "38        0          0       0        0        0        0       0         0   \n",
              "\n",
              "    war  western  \n",
              "58    0        0  \n",
              "14    0        0  \n",
              "22    0        0  \n",
              "55    0        0  \n",
              "48    0        0  \n",
              "47    0        0  \n",
              "45    0        0  \n",
              "44    0        0  \n",
              "19    0        0  \n",
              "38    0        0  \n",
              "\n",
              "[10 rows x 27 columns]"
            ]
          },
          "execution_count": 27,
          "metadata": {},
          "output_type": "execute_result"
        }
      ],
      "source": [
        "already_rated.head(10)"
      ]
    },
    {
      "cell_type": "code",
      "execution_count": 28,
      "id": "DIWxxWdQoWkG",
      "metadata": {
        "colab": {
          "base_uri": "https://localhost:8080/",
          "height": 690
        },
        "id": "DIWxxWdQoWkG",
        "outputId": "e99ce155-3058-429a-aff9-ad890e93d468"
      },
      "outputs": [
        {
          "data": {
            "text/html": [
              "<div>\n",
              "<style scoped>\n",
              "    .dataframe tbody tr th:only-of-type {\n",
              "        vertical-align: middle;\n",
              "    }\n",
              "\n",
              "    .dataframe tbody tr th {\n",
              "        vertical-align: top;\n",
              "    }\n",
              "\n",
              "    .dataframe thead th {\n",
              "        text-align: right;\n",
              "    }\n",
              "</style>\n",
              "<table border=\"1\" class=\"dataframe\">\n",
              "  <thead>\n",
              "    <tr style=\"text-align: right;\">\n",
              "      <th></th>\n",
              "      <th>movie_id</th>\n",
              "      <th>movie_title</th>\n",
              "      <th>release_date</th>\n",
              "      <th>video_release_date</th>\n",
              "      <th>imdb_url</th>\n",
              "      <th>unknown</th>\n",
              "      <th>action</th>\n",
              "      <th>adventure</th>\n",
              "      <th>animation</th>\n",
              "      <th>childrens</th>\n",
              "      <th>...</th>\n",
              "      <th>fantasy</th>\n",
              "      <th>film_noir</th>\n",
              "      <th>horror</th>\n",
              "      <th>musical</th>\n",
              "      <th>mystery</th>\n",
              "      <th>romance</th>\n",
              "      <th>sci_fi</th>\n",
              "      <th>thriller</th>\n",
              "      <th>war</th>\n",
              "      <th>western</th>\n",
              "    </tr>\n",
              "  </thead>\n",
              "  <tbody>\n",
              "    <tr>\n",
              "      <th>292</th>\n",
              "      <td>307</td>\n",
              "      <td>Devil's Advocate, The (1997)</td>\n",
              "      <td>01-Jan-1997</td>\n",
              "      <td>NaN</td>\n",
              "      <td>http://us.imdb.com/M/title-exact?Devil's+Advoc...</td>\n",
              "      <td>0</td>\n",
              "      <td>0</td>\n",
              "      <td>0</td>\n",
              "      <td>0</td>\n",
              "      <td>0</td>\n",
              "      <td>...</td>\n",
              "      <td>0</td>\n",
              "      <td>0</td>\n",
              "      <td>1</td>\n",
              "      <td>0</td>\n",
              "      <td>1</td>\n",
              "      <td>0</td>\n",
              "      <td>0</td>\n",
              "      <td>1</td>\n",
              "      <td>0</td>\n",
              "      <td>0</td>\n",
              "    </tr>\n",
              "    <tr>\n",
              "      <th>287</th>\n",
              "      <td>301</td>\n",
              "      <td>In &amp; Out (1997)</td>\n",
              "      <td>19-Sep-1997</td>\n",
              "      <td>NaN</td>\n",
              "      <td>http://us.imdb.com/Title?In+%26+Out+(1997)</td>\n",
              "      <td>0</td>\n",
              "      <td>0</td>\n",
              "      <td>0</td>\n",
              "      <td>0</td>\n",
              "      <td>0</td>\n",
              "      <td>...</td>\n",
              "      <td>0</td>\n",
              "      <td>0</td>\n",
              "      <td>0</td>\n",
              "      <td>0</td>\n",
              "      <td>0</td>\n",
              "      <td>0</td>\n",
              "      <td>0</td>\n",
              "      <td>0</td>\n",
              "      <td>0</td>\n",
              "      <td>0</td>\n",
              "    </tr>\n",
              "    <tr>\n",
              "      <th>308</th>\n",
              "      <td>331</td>\n",
              "      <td>Edge, The (1997)</td>\n",
              "      <td>26-Sep-1997</td>\n",
              "      <td>NaN</td>\n",
              "      <td>http://us.imdb.com/M/title-exact?Edge%2C+The+(...</td>\n",
              "      <td>0</td>\n",
              "      <td>0</td>\n",
              "      <td>1</td>\n",
              "      <td>0</td>\n",
              "      <td>0</td>\n",
              "      <td>...</td>\n",
              "      <td>0</td>\n",
              "      <td>0</td>\n",
              "      <td>0</td>\n",
              "      <td>0</td>\n",
              "      <td>0</td>\n",
              "      <td>0</td>\n",
              "      <td>0</td>\n",
              "      <td>1</td>\n",
              "      <td>0</td>\n",
              "      <td>0</td>\n",
              "    </tr>\n",
              "    <tr>\n",
              "      <th>711</th>\n",
              "      <td>748</td>\n",
              "      <td>Saint, The (1997)</td>\n",
              "      <td>14-Mar-1997</td>\n",
              "      <td>NaN</td>\n",
              "      <td>http://us.imdb.com/M/title-exact?Saint%2C%20Th...</td>\n",
              "      <td>0</td>\n",
              "      <td>1</td>\n",
              "      <td>0</td>\n",
              "      <td>0</td>\n",
              "      <td>0</td>\n",
              "      <td>...</td>\n",
              "      <td>0</td>\n",
              "      <td>0</td>\n",
              "      <td>0</td>\n",
              "      <td>0</td>\n",
              "      <td>0</td>\n",
              "      <td>1</td>\n",
              "      <td>0</td>\n",
              "      <td>1</td>\n",
              "      <td>0</td>\n",
              "      <td>0</td>\n",
              "    </tr>\n",
              "    <tr>\n",
              "      <th>309</th>\n",
              "      <td>332</td>\n",
              "      <td>Kiss the Girls (1997)</td>\n",
              "      <td>01-Jan-1997</td>\n",
              "      <td>NaN</td>\n",
              "      <td>http://us.imdb.com/M/title-exact?Kiss+the+Girl...</td>\n",
              "      <td>0</td>\n",
              "      <td>0</td>\n",
              "      <td>0</td>\n",
              "      <td>0</td>\n",
              "      <td>0</td>\n",
              "      <td>...</td>\n",
              "      <td>0</td>\n",
              "      <td>0</td>\n",
              "      <td>0</td>\n",
              "      <td>0</td>\n",
              "      <td>0</td>\n",
              "      <td>0</td>\n",
              "      <td>0</td>\n",
              "      <td>1</td>\n",
              "      <td>0</td>\n",
              "      <td>0</td>\n",
              "    </tr>\n",
              "    <tr>\n",
              "      <th>317</th>\n",
              "      <td>343</td>\n",
              "      <td>Alien: Resurrection (1997)</td>\n",
              "      <td>01-Jan-1997</td>\n",
              "      <td>NaN</td>\n",
              "      <td>http://us.imdb.com/M/title-exact?Alien%3A+Resu...</td>\n",
              "      <td>0</td>\n",
              "      <td>1</td>\n",
              "      <td>0</td>\n",
              "      <td>0</td>\n",
              "      <td>0</td>\n",
              "      <td>...</td>\n",
              "      <td>0</td>\n",
              "      <td>0</td>\n",
              "      <td>1</td>\n",
              "      <td>0</td>\n",
              "      <td>0</td>\n",
              "      <td>0</td>\n",
              "      <td>1</td>\n",
              "      <td>0</td>\n",
              "      <td>0</td>\n",
              "      <td>0</td>\n",
              "    </tr>\n",
              "    <tr>\n",
              "      <th>244</th>\n",
              "      <td>245</td>\n",
              "      <td>Devil's Own, The (1997)</td>\n",
              "      <td>26-Mar-1997</td>\n",
              "      <td>NaN</td>\n",
              "      <td>http://us.imdb.com/M/title-exact?Devil%27s%20O...</td>\n",
              "      <td>0</td>\n",
              "      <td>1</td>\n",
              "      <td>0</td>\n",
              "      <td>0</td>\n",
              "      <td>0</td>\n",
              "      <td>...</td>\n",
              "      <td>0</td>\n",
              "      <td>0</td>\n",
              "      <td>0</td>\n",
              "      <td>0</td>\n",
              "      <td>0</td>\n",
              "      <td>0</td>\n",
              "      <td>0</td>\n",
              "      <td>1</td>\n",
              "      <td>1</td>\n",
              "      <td>0</td>\n",
              "    </tr>\n",
              "    <tr>\n",
              "      <th>296</th>\n",
              "      <td>312</td>\n",
              "      <td>Midnight in the Garden of Good and Evil (1997)</td>\n",
              "      <td>01-Jan-1997</td>\n",
              "      <td>NaN</td>\n",
              "      <td>http://us.imdb.com/M/title-exact?Midnight+in+t...</td>\n",
              "      <td>0</td>\n",
              "      <td>0</td>\n",
              "      <td>0</td>\n",
              "      <td>0</td>\n",
              "      <td>0</td>\n",
              "      <td>...</td>\n",
              "      <td>0</td>\n",
              "      <td>0</td>\n",
              "      <td>0</td>\n",
              "      <td>0</td>\n",
              "      <td>1</td>\n",
              "      <td>0</td>\n",
              "      <td>0</td>\n",
              "      <td>0</td>\n",
              "      <td>0</td>\n",
              "      <td>0</td>\n",
              "    </tr>\n",
              "    <tr>\n",
              "      <th>305</th>\n",
              "      <td>327</td>\n",
              "      <td>Cop Land (1997)</td>\n",
              "      <td>01-Jan-1997</td>\n",
              "      <td>NaN</td>\n",
              "      <td>http://us.imdb.com/M/title-exact?Cop+Land+(1997)</td>\n",
              "      <td>0</td>\n",
              "      <td>0</td>\n",
              "      <td>0</td>\n",
              "      <td>0</td>\n",
              "      <td>0</td>\n",
              "      <td>...</td>\n",
              "      <td>0</td>\n",
              "      <td>0</td>\n",
              "      <td>0</td>\n",
              "      <td>0</td>\n",
              "      <td>1</td>\n",
              "      <td>0</td>\n",
              "      <td>0</td>\n",
              "      <td>0</td>\n",
              "      <td>0</td>\n",
              "      <td>0</td>\n",
              "    </tr>\n",
              "    <tr>\n",
              "      <th>289</th>\n",
              "      <td>304</td>\n",
              "      <td>Fly Away Home (1996)</td>\n",
              "      <td>13-Sep-1996</td>\n",
              "      <td>NaN</td>\n",
              "      <td>http://us.imdb.com/M/title-exact?Fly%20Away%20...</td>\n",
              "      <td>0</td>\n",
              "      <td>0</td>\n",
              "      <td>1</td>\n",
              "      <td>0</td>\n",
              "      <td>1</td>\n",
              "      <td>...</td>\n",
              "      <td>0</td>\n",
              "      <td>0</td>\n",
              "      <td>0</td>\n",
              "      <td>0</td>\n",
              "      <td>0</td>\n",
              "      <td>0</td>\n",
              "      <td>0</td>\n",
              "      <td>0</td>\n",
              "      <td>0</td>\n",
              "      <td>0</td>\n",
              "    </tr>\n",
              "  </tbody>\n",
              "</table>\n",
              "<p>10 rows × 24 columns</p>\n",
              "</div>"
            ],
            "text/plain": [
              "     movie_id                                     movie_title release_date  \\\n",
              "292       307                    Devil's Advocate, The (1997)  01-Jan-1997   \n",
              "287       301                                 In & Out (1997)  19-Sep-1997   \n",
              "308       331                                Edge, The (1997)  26-Sep-1997   \n",
              "711       748                               Saint, The (1997)  14-Mar-1997   \n",
              "309       332                           Kiss the Girls (1997)  01-Jan-1997   \n",
              "317       343                      Alien: Resurrection (1997)  01-Jan-1997   \n",
              "244       245                         Devil's Own, The (1997)  26-Mar-1997   \n",
              "296       312  Midnight in the Garden of Good and Evil (1997)  01-Jan-1997   \n",
              "305       327                                 Cop Land (1997)  01-Jan-1997   \n",
              "289       304                            Fly Away Home (1996)  13-Sep-1996   \n",
              "\n",
              "     video_release_date                                           imdb_url  \\\n",
              "292                 NaN  http://us.imdb.com/M/title-exact?Devil's+Advoc...   \n",
              "287                 NaN         http://us.imdb.com/Title?In+%26+Out+(1997)   \n",
              "308                 NaN  http://us.imdb.com/M/title-exact?Edge%2C+The+(...   \n",
              "711                 NaN  http://us.imdb.com/M/title-exact?Saint%2C%20Th...   \n",
              "309                 NaN  http://us.imdb.com/M/title-exact?Kiss+the+Girl...   \n",
              "317                 NaN  http://us.imdb.com/M/title-exact?Alien%3A+Resu...   \n",
              "244                 NaN  http://us.imdb.com/M/title-exact?Devil%27s%20O...   \n",
              "296                 NaN  http://us.imdb.com/M/title-exact?Midnight+in+t...   \n",
              "305                 NaN   http://us.imdb.com/M/title-exact?Cop+Land+(1997)   \n",
              "289                 NaN  http://us.imdb.com/M/title-exact?Fly%20Away%20...   \n",
              "\n",
              "     unknown  action  adventure  animation  childrens  ...  fantasy  \\\n",
              "292        0       0          0          0          0  ...        0   \n",
              "287        0       0          0          0          0  ...        0   \n",
              "308        0       0          1          0          0  ...        0   \n",
              "711        0       1          0          0          0  ...        0   \n",
              "309        0       0          0          0          0  ...        0   \n",
              "317        0       1          0          0          0  ...        0   \n",
              "244        0       1          0          0          0  ...        0   \n",
              "296        0       0          0          0          0  ...        0   \n",
              "305        0       0          0          0          0  ...        0   \n",
              "289        0       0          1          0          1  ...        0   \n",
              "\n",
              "     film_noir  horror  musical  mystery  romance  sci_fi  thriller  war  \\\n",
              "292          0       1        0        1        0       0         1    0   \n",
              "287          0       0        0        0        0       0         0    0   \n",
              "308          0       0        0        0        0       0         1    0   \n",
              "711          0       0        0        0        1       0         1    0   \n",
              "309          0       0        0        0        0       0         1    0   \n",
              "317          0       1        0        0        0       1         0    0   \n",
              "244          0       0        0        0        0       0         1    1   \n",
              "296          0       0        0        1        0       0         0    0   \n",
              "305          0       0        0        1        0       0         0    0   \n",
              "289          0       0        0        0        0       0         0    0   \n",
              "\n",
              "     western  \n",
              "292        0  \n",
              "287        0  \n",
              "308        0  \n",
              "711        0  \n",
              "309        0  \n",
              "317        0  \n",
              "244        0  \n",
              "296        0  \n",
              "305        0  \n",
              "289        0  \n",
              "\n",
              "[10 rows x 24 columns]"
            ]
          },
          "execution_count": 28,
          "metadata": {},
          "output_type": "execute_result"
        }
      ],
      "source": [
        "predictions"
      ]
    },
    {
      "cell_type": "markdown",
      "id": "4761b196",
      "metadata": {},
      "source": [
        "# Model Saving and Loading"
      ]
    },
    {
      "cell_type": "code",
      "execution_count": 29,
      "id": "B6fomkumopm0",
      "metadata": {
        "id": "B6fomkumopm0"
      },
      "outputs": [
        {
          "name": "stdout",
          "output_type": "stream",
          "text": [
            "Model saved successfully!\n"
          ]
        }
      ],
      "source": [
        "import pickle\n",
        "import numpy as np\n",
        "from scipy.sparse.linalg import svds\n",
        "\n",
        "# Assuming your data has been prepared as shown earlier\n",
        "latent_size = 50  # You can change this to the optimal size found from evaluation\n",
        "\n",
        "# Demean the data\n",
        "mtrx = mtrx_df.to_numpy()\n",
        "ratings_mean = np.mean(mtrx, axis=1)\n",
        "normalized_mtrx = mtrx - ratings_mean.reshape(-1, 1)\n",
        "\n",
        "# Perform Singular Value Decomposition\n",
        "U, sigma, Vt = svds(normalized_mtrx, k=latent_size)\n",
        "sigma = np.diag(sigma)\n",
        "\n",
        "# Save the model components\n",
        "model_components = {\n",
        "    'U': U,\n",
        "    'sigma': sigma,\n",
        "    'Vt': Vt,\n",
        "    'ratings_mean': ratings_mean,\n",
        "    'mtrx_df_columns': mtrx_df.columns\n",
        "}\n",
        "\n",
        "# Save the model to a file using pickle\n",
        "with open('recommendation_model.pkl', 'wb') as f:\n",
        "    pickle.dump(model_components, f)\n",
        "\n",
        "print(\"Model saved successfully!\")"
      ]
    },
    {
      "cell_type": "code",
      "execution_count": null,
      "id": "c6b2b593",
      "metadata": {},
      "outputs": [],
      "source": []
    }
  ],
  "metadata": {
    "colab": {
      "provenance": []
    },
    "kernelspec": {
      "display_name": "Python 3 (ipykernel)",
      "language": "python",
      "name": "python3"
    },
    "language_info": {
      "codemirror_mode": {
        "name": "ipython",
        "version": 3
      },
      "file_extension": ".py",
      "mimetype": "text/x-python",
      "name": "python",
      "nbconvert_exporter": "python",
      "pygments_lexer": "ipython3",
      "version": "3.12.3"
    }
  },
  "nbformat": 4,
  "nbformat_minor": 5
}
